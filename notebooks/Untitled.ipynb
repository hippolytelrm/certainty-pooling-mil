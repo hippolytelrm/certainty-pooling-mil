{
 "cells": [
  {
   "cell_type": "code",
   "execution_count": 1,
   "id": "173b4987-0d6b-42de-a6a3-024ab3193023",
   "metadata": {
    "tags": []
   },
   "outputs": [],
   "source": [
    "%load_ext autoreload\n",
    "%autoreload 2"
   ]
  },
  {
   "cell_type": "code",
   "execution_count": 2,
   "id": "485bcd28",
   "metadata": {
    "tags": []
   },
   "outputs": [],
   "source": [
    "from pathlib import Path\n",
    "from src.config.settings import CONFIG_PATH, DATA_PATH, ROOT_PATH\n",
    "from src.utils.utils import collate_fn, load_yaml\n",
    "import torch\n",
    "import numpy as np\n",
    "\n",
    "config = load_yaml(path=CONFIG_PATH)"
   ]
  },
  {
   "cell_type": "markdown",
   "id": "4b8ff177",
   "metadata": {},
   "source": [
    "# Eval"
   ]
  },
  {
   "cell_type": "code",
   "execution_count": 3,
   "id": "7698a3a4",
   "metadata": {
    "tags": []
   },
   "outputs": [
    {
     "name": "stdout",
     "output_type": "stream",
     "text": [
      "/data/ubuntu/data/saved_models/experiment_24/model0.pt\n"
     ]
    }
   ],
   "source": [
    "path_models = list(Path(config.data.training.save_dir).glob('*.pt'))\n",
    "\n",
    "accuracy , auc, cm = [], [], []\n",
    "\n",
    "for path_model in path_models: \n",
    "    \n",
    "    print(path_model)\n",
    "    saved_model = torch.load(path_model)\n",
    "    accuracy.append(saved_model['acc'])\n",
    "    auc.append(saved_model['auc'])\n",
    "    #cm.append(saved_model['confusion_matrix'])"
   ]
  },
  {
   "cell_type": "code",
   "execution_count": 4,
   "id": "96cdb492-872f-4cc3-af2b-0b7b65609753",
   "metadata": {
    "tags": []
   },
   "outputs": [
    {
     "data": {
      "text/html": [
       "<div>\n",
       "<style scoped>\n",
       "    .dataframe tbody tr th:only-of-type {\n",
       "        vertical-align: middle;\n",
       "    }\n",
       "\n",
       "    .dataframe tbody tr th {\n",
       "        vertical-align: top;\n",
       "    }\n",
       "\n",
       "    .dataframe thead th {\n",
       "        text-align: right;\n",
       "    }\n",
       "</style>\n",
       "<table border=\"1\" class=\"dataframe\">\n",
       "  <thead>\n",
       "    <tr style=\"text-align: right;\">\n",
       "      <th></th>\n",
       "      <th>model0.pt</th>\n",
       "    </tr>\n",
       "  </thead>\n",
       "  <tbody>\n",
       "    <tr>\n",
       "      <th>accuracy</th>\n",
       "      <td>0.821429</td>\n",
       "    </tr>\n",
       "    <tr>\n",
       "      <th>auc</th>\n",
       "      <td>0.859412</td>\n",
       "    </tr>\n",
       "  </tbody>\n",
       "</table>\n",
       "</div>"
      ],
      "text/plain": [
       "          model0.pt\n",
       "accuracy   0.821429\n",
       "auc        0.859412"
      ]
     },
     "execution_count": 4,
     "metadata": {},
     "output_type": "execute_result"
    }
   ],
   "source": [
    "import pandas as pd\n",
    "\n",
    "df_metrics = pd.DataFrame({\"accuracy\":accuracy, \"auc\":auc}, index = [i.name for i in path_models]).T\n",
    "df_metrics"
   ]
  },
  {
   "cell_type": "code",
   "execution_count": 14,
   "id": "afb9b19a",
   "metadata": {
    "tags": []
   },
   "outputs": [
    {
     "data": {
      "text/html": [
       "<div>\n",
       "<style scoped>\n",
       "    .dataframe tbody tr th:only-of-type {\n",
       "        vertical-align: middle;\n",
       "    }\n",
       "\n",
       "    .dataframe tbody tr th {\n",
       "        vertical-align: top;\n",
       "    }\n",
       "\n",
       "    .dataframe thead th {\n",
       "        text-align: right;\n",
       "    }\n",
       "</style>\n",
       "<table border=\"1\" class=\"dataframe\">\n",
       "  <thead>\n",
       "    <tr style=\"text-align: right;\">\n",
       "      <th></th>\n",
       "      <th>model0.pt</th>\n",
       "      <th>model1.pt</th>\n",
       "      <th>model2.pt</th>\n",
       "    </tr>\n",
       "  </thead>\n",
       "  <tbody>\n",
       "    <tr>\n",
       "      <th>accuracy</th>\n",
       "      <td>0.845238</td>\n",
       "      <td>0.857143</td>\n",
       "      <td>0.583333</td>\n",
       "    </tr>\n",
       "    <tr>\n",
       "      <th>auc</th>\n",
       "      <td>0.916221</td>\n",
       "      <td>0.876157</td>\n",
       "      <td>0.537026</td>\n",
       "    </tr>\n",
       "  </tbody>\n",
       "</table>\n",
       "</div>"
      ],
      "text/plain": [
       "          model0.pt  model1.pt  model2.pt\n",
       "accuracy   0.845238   0.857143   0.583333\n",
       "auc        0.916221   0.876157   0.537026"
      ]
     },
     "execution_count": 14,
     "metadata": {},
     "output_type": "execute_result"
    }
   ],
   "source": [
    "import pandas as pd\n",
    "\n",
    "df_metrics = pd.DataFrame({\"accuracy\":accuracy, \"auc\":auc}, index = [i.name for i in path_models]).T\n",
    "df_metrics"
   ]
  },
  {
   "cell_type": "code",
   "execution_count": 4,
   "id": "1f36d073",
   "metadata": {
    "tags": []
   },
   "outputs": [
    {
     "name": "stdout",
     "output_type": "stream",
     "text": [
      "AUC = 0.9022679193628671 +/- 0.03313614686220466\n",
      "ACC = 0.8387163561076605 +/- 0.02105550363929502\n"
     ]
    }
   ],
   "source": [
    "print(f\"AUC = {np.mean(auc)} +/- {np.std(auc)}\")\n",
    "print(f\"ACC = {np.mean(accuracy)} +/- {np.std(accuracy)}\")"
   ]
  },
  {
   "cell_type": "code",
   "execution_count": 24,
   "id": "b87412aa",
   "metadata": {
    "tags": []
   },
   "outputs": [
    {
     "name": "stdout",
     "output_type": "stream",
     "text": [
      "[PosixPath('/data/ubuntu/data/saved_models/experiment_22/submission_model0.csv'), PosixPath('/data/ubuntu/data/saved_models/experiment_22/submission_model1.csv'), PosixPath('/data/ubuntu/data/saved_models/experiment_22/submission_model2.csv')]\n"
     ]
    },
    {
     "data": {
      "text/html": [
       "<div>\n",
       "<style scoped>\n",
       "    .dataframe tbody tr th:only-of-type {\n",
       "        vertical-align: middle;\n",
       "    }\n",
       "\n",
       "    .dataframe tbody tr th {\n",
       "        vertical-align: top;\n",
       "    }\n",
       "\n",
       "    .dataframe thead th {\n",
       "        text-align: right;\n",
       "    }\n",
       "</style>\n",
       "<table border=\"1\" class=\"dataframe\">\n",
       "  <thead>\n",
       "    <tr style=\"text-align: right;\">\n",
       "      <th></th>\n",
       "      <th>ID</th>\n",
       "      <th>Target</th>\n",
       "      <th>Target</th>\n",
       "      <th>Target</th>\n",
       "    </tr>\n",
       "  </thead>\n",
       "  <tbody>\n",
       "    <tr>\n",
       "      <th>0</th>\n",
       "      <td>103.0</td>\n",
       "      <td>0.455303</td>\n",
       "      <td>0.380270</td>\n",
       "      <td>0.435988</td>\n",
       "    </tr>\n",
       "    <tr>\n",
       "      <th>1</th>\n",
       "      <td>117.0</td>\n",
       "      <td>0.946628</td>\n",
       "      <td>0.956077</td>\n",
       "      <td>0.443078</td>\n",
       "    </tr>\n",
       "    <tr>\n",
       "      <th>2</th>\n",
       "      <td>62.0</td>\n",
       "      <td>0.959353</td>\n",
       "      <td>0.380482</td>\n",
       "      <td>0.449491</td>\n",
       "    </tr>\n",
       "    <tr>\n",
       "      <th>3</th>\n",
       "      <td>328.0</td>\n",
       "      <td>0.329670</td>\n",
       "      <td>0.206216</td>\n",
       "      <td>0.205450</td>\n",
       "    </tr>\n",
       "    <tr>\n",
       "      <th>4</th>\n",
       "      <td>314.0</td>\n",
       "      <td>0.999991</td>\n",
       "      <td>0.999455</td>\n",
       "      <td>0.998287</td>\n",
       "    </tr>\n",
       "    <tr>\n",
       "      <th>...</th>\n",
       "      <td>...</td>\n",
       "      <td>...</td>\n",
       "      <td>...</td>\n",
       "      <td>...</td>\n",
       "    </tr>\n",
       "    <tr>\n",
       "      <th>115</th>\n",
       "      <td>91.0</td>\n",
       "      <td>0.304125</td>\n",
       "      <td>0.229579</td>\n",
       "      <td>0.251129</td>\n",
       "    </tr>\n",
       "    <tr>\n",
       "      <th>116</th>\n",
       "      <td>330.0</td>\n",
       "      <td>0.892403</td>\n",
       "      <td>0.367224</td>\n",
       "      <td>0.651358</td>\n",
       "    </tr>\n",
       "    <tr>\n",
       "      <th>117</th>\n",
       "      <td>324.0</td>\n",
       "      <td>0.329450</td>\n",
       "      <td>0.382285</td>\n",
       "      <td>0.439602</td>\n",
       "    </tr>\n",
       "    <tr>\n",
       "      <th>118</th>\n",
       "      <td>318.0</td>\n",
       "      <td>0.958602</td>\n",
       "      <td>0.378342</td>\n",
       "      <td>0.723550</td>\n",
       "    </tr>\n",
       "    <tr>\n",
       "      <th>119</th>\n",
       "      <td>126.0</td>\n",
       "      <td>0.358610</td>\n",
       "      <td>0.911618</td>\n",
       "      <td>0.406432</td>\n",
       "    </tr>\n",
       "  </tbody>\n",
       "</table>\n",
       "<p>120 rows × 4 columns</p>\n",
       "</div>"
      ],
      "text/plain": [
       "        ID    Target    Target    Target\n",
       "0    103.0  0.455303  0.380270  0.435988\n",
       "1    117.0  0.946628  0.956077  0.443078\n",
       "2     62.0  0.959353  0.380482  0.449491\n",
       "3    328.0  0.329670  0.206216  0.205450\n",
       "4    314.0  0.999991  0.999455  0.998287\n",
       "..     ...       ...       ...       ...\n",
       "115   91.0  0.304125  0.229579  0.251129\n",
       "116  330.0  0.892403  0.367224  0.651358\n",
       "117  324.0  0.329450  0.382285  0.439602\n",
       "118  318.0  0.958602  0.378342  0.723550\n",
       "119  126.0  0.358610  0.911618  0.406432\n",
       "\n",
       "[120 rows x 4 columns]"
      ]
     },
     "execution_count": 24,
     "metadata": {},
     "output_type": "execute_result"
    }
   ],
   "source": [
    "import pandas as pd\n",
    "\n",
    "csv_paths = list(Path(\"/data/ubuntu/data/saved_models/experiment_22/\").glob(\"sub*.csv\"))[:3]\n",
    "print(csv_paths)\n",
    "\n",
    "li = []\n",
    "\n",
    "for filename in csv_paths:\n",
    "    df = pd.read_csv(filename)\n",
    "    li.append(df)\n",
    "\n",
    "frame = pd.concat(li, axis=1, ignore_index=False)\n",
    "frame = frame.T.drop_duplicates().T\n",
    "frame"
   ]
  },
  {
   "cell_type": "code",
   "execution_count": 26,
   "id": "bcaf92c8-7e07-4b56-9a01-2407f54b3801",
   "metadata": {
    "tags": []
   },
   "outputs": [
    {
     "data": {
      "text/html": [
       "<div>\n",
       "<style scoped>\n",
       "    .dataframe tbody tr th:only-of-type {\n",
       "        vertical-align: middle;\n",
       "    }\n",
       "\n",
       "    .dataframe tbody tr th {\n",
       "        vertical-align: top;\n",
       "    }\n",
       "\n",
       "    .dataframe thead th {\n",
       "        text-align: right;\n",
       "    }\n",
       "</style>\n",
       "<table border=\"1\" class=\"dataframe\">\n",
       "  <thead>\n",
       "    <tr style=\"text-align: right;\">\n",
       "      <th></th>\n",
       "      <th>ID</th>\n",
       "      <th>Target</th>\n",
       "    </tr>\n",
       "  </thead>\n",
       "  <tbody>\n",
       "    <tr>\n",
       "      <th>0</th>\n",
       "      <td>103.0</td>\n",
       "      <td>0.423854</td>\n",
       "    </tr>\n",
       "    <tr>\n",
       "      <th>1</th>\n",
       "      <td>117.0</td>\n",
       "      <td>0.781928</td>\n",
       "    </tr>\n",
       "    <tr>\n",
       "      <th>2</th>\n",
       "      <td>62.0</td>\n",
       "      <td>0.596442</td>\n",
       "    </tr>\n",
       "    <tr>\n",
       "      <th>3</th>\n",
       "      <td>328.0</td>\n",
       "      <td>0.247112</td>\n",
       "    </tr>\n",
       "    <tr>\n",
       "      <th>4</th>\n",
       "      <td>314.0</td>\n",
       "      <td>0.999245</td>\n",
       "    </tr>\n",
       "    <tr>\n",
       "      <th>...</th>\n",
       "      <td>...</td>\n",
       "      <td>...</td>\n",
       "    </tr>\n",
       "    <tr>\n",
       "      <th>115</th>\n",
       "      <td>91.0</td>\n",
       "      <td>0.261611</td>\n",
       "    </tr>\n",
       "    <tr>\n",
       "      <th>116</th>\n",
       "      <td>330.0</td>\n",
       "      <td>0.636995</td>\n",
       "    </tr>\n",
       "    <tr>\n",
       "      <th>117</th>\n",
       "      <td>324.0</td>\n",
       "      <td>0.383779</td>\n",
       "    </tr>\n",
       "    <tr>\n",
       "      <th>118</th>\n",
       "      <td>318.0</td>\n",
       "      <td>0.686831</td>\n",
       "    </tr>\n",
       "    <tr>\n",
       "      <th>119</th>\n",
       "      <td>126.0</td>\n",
       "      <td>0.558887</td>\n",
       "    </tr>\n",
       "  </tbody>\n",
       "</table>\n",
       "<p>120 rows × 2 columns</p>\n",
       "</div>"
      ],
      "text/plain": [
       "        ID    Target\n",
       "0    103.0  0.423854\n",
       "1    117.0  0.781928\n",
       "2     62.0  0.596442\n",
       "3    328.0  0.247112\n",
       "4    314.0  0.999245\n",
       "..     ...       ...\n",
       "115   91.0  0.261611\n",
       "116  330.0  0.636995\n",
       "117  324.0  0.383779\n",
       "118  318.0  0.686831\n",
       "119  126.0  0.558887\n",
       "\n",
       "[120 rows x 2 columns]"
      ]
     },
     "execution_count": 26,
     "metadata": {},
     "output_type": "execute_result"
    }
   ],
   "source": [
    "mean_df"
   ]
  },
  {
   "cell_type": "code",
   "execution_count": 27,
   "id": "cd8d3d51",
   "metadata": {
    "tags": []
   },
   "outputs": [],
   "source": [
    "mean_df = pd.DataFrame({\"ID\":frame.ID, \"Target\":frame.Target.mean(axis=1) })\n",
    "mean_df.to_csv(\"/data/ubuntu/data/saved_models/experiment_22/mean_4_models.csv\", index=False)"
   ]
  },
  {
   "cell_type": "markdown",
   "id": "23b8d10f",
   "metadata": {},
   "source": [
    "# Train"
   ]
  },
  {
   "cell_type": "code",
   "execution_count": 3,
   "id": "81256aa6",
   "metadata": {
    "tags": []
   },
   "outputs": [],
   "source": [
    "from pathlib import Path\n",
    "\n",
    "import numpy as np\n",
    "import pandas as pd\n",
    "import torch\n",
    "from sklearn.model_selection import train_test_split\n",
    "from torch.utils.data import DataLoader\n",
    "from torch.utils.tensorboard import SummaryWriter\n",
    "from tqdm import tqdm\n",
    "\n",
    "from src.config.settings import CONFIG_PATH, DATA_PATH\n",
    "from src.data.dataset import bag_dataset\n",
    "from src.models.evaluation import evaluation\n",
    "from src.models.model import Paper_network\n",
    "from src.models.training import train_loop\n",
    "from src.utils.utils import collate_fn, load_yaml\n",
    "\n",
    "\n",
    "config = load_yaml(path=CONFIG_PATH)\n",
    "\n",
    "metadata_file = DATA_PATH / config.data.training.metadata_file\n",
    "data_root = DATA_PATH / config.data.training.data_dir\n",
    "\n",
    "save_path = Path(config.data.training.save_dir)\n",
    "save_path.mkdir(exist_ok=True)\n",
    "\n",
    "save_model_path = save_path / config.data.training.saved_model\n",
    "checkpoint_path = config.data.training.previous_model\n",
    "\n",
    "df_annotated_bags = pd.read_csv(metadata_file)\n",
    "\n",
    "id_train_bag, id_val_bag, target_train_bag, target_val_bag = train_test_split(\n",
    "    df_annotated_bags.ID.to_list(), df_annotated_bags.Target.to_list(), test_size=config.data.split, random_state=42\n",
    ")\n",
    "\n",
    "config_tensorboard = config.data.training.tensorboard\n",
    "if config_tensorboard.use_tensorboard:\n",
    "    writer = SummaryWriter(config_tensorboard.tensorboard_writer)\n",
    "\n",
    "epochs = config.data.training.epochs\n",
    "lr = config.data.training.lr\n",
    "batch_size = config.data.training.batch_size\n",
    "\n",
    "train_ds = bag_dataset(id_train_bag, target_train_bag, data_root, random_selection=True)\n",
    "val_ds = bag_dataset(id_val_bag, target_val_bag, data_root, random_selection=False)\n",
    "\n",
    "train_pooling_loader = DataLoader(\n",
    "    train_ds, batch_size=32, shuffle=True, num_workers=4, collate_fn=collate_fn\n",
    ")\n",
    "validation_pooling_loader = DataLoader(\n",
    "    val_ds, batch_size=batch_size, shuffle=False, num_workers=4, collate_fn=collate_fn\n",
    ")\n"
   ]
  },
  {
   "cell_type": "code",
   "execution_count": 40,
   "id": "d1d63311-a7a5-4031-9c4c-d5e3dc8435a2",
   "metadata": {
    "tags": []
   },
   "outputs": [],
   "source": [
    "minimum = 1000\n",
    "target_min = -1\n",
    "for batch_features, batch_targets in train_ds: \n",
    "    if batch_features.shape[0] < minimum : \n",
    "        minimum = batch_features.shape[0]\n",
    "        target_min = batch_targets\n",
    "    "
   ]
  },
  {
   "cell_type": "code",
   "execution_count": 41,
   "id": "5f303647-048e-4cb4-bed1-6a8012933c9f",
   "metadata": {
    "tags": []
   },
   "outputs": [
    {
     "data": {
      "text/plain": [
       "(40, 0)"
      ]
     },
     "execution_count": 41,
     "metadata": {},
     "output_type": "execute_result"
    }
   ],
   "source": [
    "minimum, target_min"
   ]
  },
  {
   "cell_type": "code",
   "execution_count": 4,
   "id": "844ea835-87ef-4c90-b76f-b33a7226153d",
   "metadata": {
    "tags": []
   },
   "outputs": [],
   "source": []
  },
  {
   "cell_type": "code",
   "execution_count": 22,
   "id": "4c2d12bd-73f1-4f5c-b673-4d4aaaf83abc",
   "metadata": {
    "tags": []
   },
   "outputs": [
    {
     "data": {
      "text/plain": [
       "((128, 2048), tuple)"
      ]
     },
     "execution_count": 22,
     "metadata": {},
     "output_type": "execute_result"
    }
   ],
   "source": [
    "batch_features[1].shape, type(batch_features)"
   ]
  },
  {
   "cell_type": "code",
   "execution_count": 6,
   "id": "827c8e37-84bd-4997-9a12-1f958716efdd",
   "metadata": {
    "tags": []
   },
   "outputs": [
    {
     "data": {
      "text/plain": [
       "(torch.Size([16296, 2048]), 16384)"
      ]
     },
     "execution_count": 6,
     "metadata": {},
     "output_type": "execute_result"
    }
   ],
   "source": [
    "cat.shape , 128**2"
   ]
  },
  {
   "cell_type": "code",
   "execution_count": 4,
   "id": "40a45b51-3548-4e2b-894c-dbded70341f2",
   "metadata": {
    "tags": []
   },
   "outputs": [],
   "source": [
    "device = \"cuda\" if torch.cuda.is_available() else \"cpu\"\n",
    "\n",
    "model = Paper_network(input_size=2048, dropout=0.5)\n",
    "model = model.to(device)\n",
    "\n",
    "criterion = torch.nn.BCELoss()\n",
    "optimizer = torch.optim.Adam(model.parameters(), lr=lr)\n",
    "\n",
    "n = config.data.training.n_monte_carlo"
   ]
  },
  {
   "cell_type": "code",
   "execution_count": 6,
   "id": "94aee5f1-e786-4748-aa81-150e9ee25c65",
   "metadata": {
    "tags": []
   },
   "outputs": [
    {
     "name": "stderr",
     "output_type": "stream",
     "text": [
      "  0%|                                                                                                                               | 0/150 [00:00<?, ?it/s]"
     ]
    },
    {
     "name": "stdout",
     "output_type": "stream",
     "text": [
      "torch.Size([128, 2048])\n",
      "torch.Size([128, 2048])\n",
      "torch.Size([128, 2048])\n",
      "torch.Size([128, 2048])\n",
      "torch.Size([128, 2048])\n",
      "torch.Size([128, 2048])\n",
      "torch.Size([128, 2048])\n",
      "torch.Size([128, 2048])\n",
      "torch.Size([128, 2048])\n",
      "torch.Size([128, 2048])\n",
      "torch.Size([128, 2048])\n",
      "torch.Size([128, 2048])\n",
      "torch.Size([128, 2048])\n",
      "torch.Size([128, 2048])\n",
      "torch.Size([128, 2048])\n",
      "torch.Size([128, 2048])\n",
      "torch.Size([128, 2048])\n",
      "torch.Size([128, 2048])\n",
      "torch.Size([128, 2048])\n",
      "torch.Size([128, 2048])\n",
      "torch.Size([128, 2048])\n",
      "torch.Size([128, 2048])\n",
      "torch.Size([128, 2048])\n",
      "torch.Size([128, 2048])\n",
      "torch.Size([128, 2048])\n",
      "torch.Size([44, 2048])\n",
      "torch.Size([128, 2048])\n",
      "torch.Size([128, 2048])\n",
      "torch.Size([128, 2048])\n",
      "torch.Size([128, 2048])\n",
      "torch.Size([128, 2048])\n",
      "torch.Size([128, 2048])\n"
     ]
    },
    {
     "name": "stderr",
     "output_type": "stream",
     "text": [
      "  0%|                                                                                                                               | 0/150 [00:02<?, ?it/s]\n"
     ]
    }
   ],
   "source": [
    "from src.models.certainty_pooling import certainty_pooling\n",
    "\n",
    "for epoch in tqdm(range(epochs)):\n",
    "    #running_loss = train_loop(train_pooling_loader, model, criterion, optimizer, epoch, device, n=n)\n",
    "    \n",
    "    running_loss = 0.0\n",
    "    for i, sample in enumerate(train_pooling_loader, 0):\n",
    "        inputs, targets = sample\n",
    "\n",
    "        with torch.no_grad():\n",
    "            inputs_pooling = np.asarray(\n",
    "                [certainty_pooling(model, input, n, device, epsilon=1.0e-3) for input in inputs]\n",
    "            )\n",
    "        break\n",
    "    break"
   ]
  },
  {
   "cell_type": "code",
   "execution_count": 15,
   "id": "1261bf44-f89e-41fe-9fdc-a89e00af411d",
   "metadata": {
    "tags": []
   },
   "outputs": [
    {
     "data": {
      "text/plain": [
       "(32, 2048)"
      ]
     },
     "execution_count": 15,
     "metadata": {},
     "output_type": "execute_result"
    }
   ],
   "source": [
    "inputs_pooling.shape"
   ]
  },
  {
   "cell_type": "code",
   "execution_count": 23,
   "id": "386b4408-8f95-4ad0-bbfe-50fea9ef00d6",
   "metadata": {
    "tags": []
   },
   "outputs": [
    {
     "ename": "TypeError",
     "evalue": "expected Tensor as element 0 in argument 0, but got int",
     "output_type": "error",
     "traceback": [
      "\u001b[0;31m---------------------------------------------------------------------------\u001b[0m",
      "\u001b[0;31mTypeError\u001b[0m                                 Traceback (most recent call last)",
      "Cell \u001b[0;32mIn[23], line 23\u001b[0m\n\u001b[1;32m     20\u001b[0m k_star \u001b[38;5;241m=\u001b[39m torch\u001b[38;5;241m.\u001b[39mtensor([z_\u001b[38;5;241m.\u001b[39margmax() \u001b[38;5;28;01mfor\u001b[39;00m z_ \u001b[38;5;129;01min\u001b[39;00m z_m])\n\u001b[1;32m     22\u001b[0m pooling_input \u001b[38;5;241m=\u001b[39m torch\u001b[38;5;241m.\u001b[39mcat([torch\u001b[38;5;241m.\u001b[39mtensor(bag[k_star[idx]])\u001b[38;5;241m.\u001b[39munsqueeze(\u001b[38;5;241m0\u001b[39m) \u001b[38;5;28;01mfor\u001b[39;00m idx, bag \u001b[38;5;129;01min\u001b[39;00m \u001b[38;5;28menumerate\u001b[39m(batch_features)], dim\u001b[38;5;241m=\u001b[39m\u001b[38;5;241m0\u001b[39m)\n\u001b[0;32m---> 23\u001b[0m pooling_target \u001b[38;5;241m=\u001b[39m \u001b[43mtorch\u001b[49m\u001b[38;5;241;43m.\u001b[39;49m\u001b[43mcat\u001b[49m\u001b[43m(\u001b[49m\u001b[43m[\u001b[49m\u001b[43m \u001b[49m\u001b[43mi\u001b[49m\u001b[43m \u001b[49m\u001b[38;5;28;43;01mfor\u001b[39;49;00m\u001b[43m \u001b[49m\u001b[43mi\u001b[49m\u001b[43m \u001b[49m\u001b[38;5;129;43;01min\u001b[39;49;00m\u001b[43m \u001b[49m\u001b[43mbatch_targets\u001b[49m\u001b[43m]\u001b[49m\u001b[43m)\u001b[49m\n",
      "\u001b[0;31mTypeError\u001b[0m: expected Tensor as element 0 in argument 0, but got int"
     ]
    }
   ],
   "source": [
    "for batch_features, batch_targets in train_pooling_loader: \n",
    "    break\n",
    "\n",
    "T = 10\n",
    "\n",
    "input_ = torch.cat([torch.tensor(i) for i in batch_features])\n",
    "h = model(input_.to(device).float())\n",
    "\n",
    "model.train()\n",
    "cat = torch.cat([torch.tensor(i) for i in batch_features])\n",
    "\n",
    "mc_output = torch.cat([model(cat.to(device).float()) for _ in range(T)], dim=0)\n",
    "mc_output = mc_output.reshape(T,cat.shape[0],1).squeeze(-1)\n",
    "\n",
    "output_split = torch.split(mc_output, split_size_or_sections=[i.shape[0] for i in batch_features], dim=1)\n",
    "std_output = torch.cat([1 / i.std(0) for i in output_split])\n",
    "\n",
    "z_m_global = (std_output * h.squeeze(-1))\n",
    "z_m = torch.split(z_m_global, split_size_or_sections=[i.shape[0] for i in batch_features], dim=0)\n",
    "k_star = torch.tensor([z_.argmax() for z_ in z_m])\n",
    "\n",
    "pooling_input = torch.cat([torch.tensor(bag[k_star[idx]]).unsqueeze(0) for idx, bag in enumerate(batch_features)], dim=0)\n",
    "pooling_target = torch.tensor(batch_targets)"
   ]
  },
  {
   "cell_type": "code",
   "execution_count": 17,
   "id": "fe7f8dbc-c2a8-43e5-b856-cec900732ef3",
   "metadata": {
    "tags": []
   },
   "outputs": [
    {
     "data": {
      "text/plain": [
       "torch.Size([32, 2048])"
      ]
     },
     "execution_count": 17,
     "metadata": {},
     "output_type": "execute_result"
    }
   ],
   "source": [
    "pooling_input.shape"
   ]
  },
  {
   "cell_type": "code",
   "execution_count": 97,
   "id": "41e73957-a796-48ca-bafc-4e792e3d359d",
   "metadata": {
    "tags": []
   },
   "outputs": [
    {
     "data": {
      "text/plain": [
       "(torch.Size([4094]), torch.Size([10, 4094]))"
      ]
     },
     "execution_count": 97,
     "metadata": {},
     "output_type": "execute_result"
    }
   ],
   "source": [
    "z_m_global.shape , mc_output.shape"
   ]
  },
  {
   "cell_type": "code",
   "execution_count": 68,
   "id": "71f31619-ff75-47e0-b9cd-e92235bbcd7f",
   "metadata": {
    "tags": []
   },
   "outputs": [
    {
     "data": {
      "text/plain": [
       "(torch.Size([10, 128]), tuple, torch.Size([3995, 1]))"
      ]
     },
     "execution_count": 68,
     "metadata": {},
     "output_type": "execute_result"
    }
   ],
   "source": [
    "output_split[0].shape , type(output_split) , h.shape"
   ]
  },
  {
   "cell_type": "code",
   "execution_count": 80,
   "id": "fae3de3b-42ce-484e-9645-d322c40e5e72",
   "metadata": {
    "tags": []
   },
   "outputs": [
    {
     "data": {
      "text/plain": [
       "(tensor(180.6760, device='cuda:0', grad_fn=<MaxBackward1>),\n",
       " tensor(1539, device='cuda:0'))"
      ]
     },
     "execution_count": 80,
     "metadata": {},
     "output_type": "execute_result"
    }
   ],
   "source": [
    "z_m.max() , z_m.argmax()"
   ]
  },
  {
   "cell_type": "code",
   "execution_count": 84,
   "id": "e75643f3-924d-40c1-8665-3f384679a68e",
   "metadata": {
    "tags": []
   },
   "outputs": [
    {
     "data": {
      "text/plain": [
       "tensor([  38,  947,  835,  771,  914,  737, 1255,  800, 1119,  484,  378,  942,\n",
       "         625,  913,  583,  241,  119,  918,   60,  538,  529,  571, 1227,  143,\n",
       "          25,  373,  886,  854,  345, 1201,  561,  890])"
      ]
     },
     "execution_count": 84,
     "metadata": {},
     "output_type": "execute_result"
    }
   ],
   "source": []
  },
  {
   "cell_type": "code",
   "execution_count": 65,
   "id": "f788a9d0-cff1-4c90-8785-8e54d4c3f7a9",
   "metadata": {
    "tags": []
   },
   "outputs": [
    {
     "data": {
      "text/plain": [
       "(tensor([[50.8923, 49.1789, 48.9541,  ..., 52.1460, 56.1518, 44.6217],\n",
       "         [50.5437, 48.8420, 48.6187,  ..., 51.7888, 55.7671, 44.3160],\n",
       "         [46.9885, 45.4065, 45.1989,  ..., 48.1460, 51.8445, 41.1989],\n",
       "         ...,\n",
       "         [51.3366, 49.6082, 49.3815,  ..., 52.6013, 56.6420, 45.0113],\n",
       "         [50.4756, 48.7762, 48.5533,  ..., 51.7191, 55.6921, 44.2564],\n",
       "         [49.2888, 47.6294, 47.4117,  ..., 50.5030, 54.3826, 43.2158]],\n",
       "        device='cuda:0', grad_fn=<MulBackward0>),\n",
       " tensor([217832.3125], device='cuda:0', grad_fn=<SqueezeBackward3>))"
      ]
     },
     "execution_count": 65,
     "metadata": {},
     "output_type": "execute_result"
    }
   ],
   "source": [
    "std_output * h , std_output @ h"
   ]
  },
  {
   "cell_type": "code",
   "execution_count": 75,
   "id": "f374852c-fed2-491c-98ed-6f30dc511ae1",
   "metadata": {
    "tags": []
   },
   "outputs": [
    {
     "data": {
      "text/plain": [
       "(torch.Size([3995]), torch.Size([3995]), torch.Size([3995, 1]))"
      ]
     },
     "execution_count": 75,
     "metadata": {},
     "output_type": "execute_result"
    }
   ],
   "source": [
    "(std_output * h.squeeze(-1)).shape , std_output.shape , h.shape"
   ]
  },
  {
   "cell_type": "code",
   "execution_count": 76,
   "id": "f29f93a0-f84b-4fbf-8a40-3dfaf6ca9ca5",
   "metadata": {
    "tags": []
   },
   "outputs": [
    {
     "data": {
      "text/plain": [
       "tensor([50.8923, 48.8420, 45.1989,  ..., 52.6013, 55.6921, 43.2158],\n",
       "       device='cuda:0', grad_fn=<MulBackward0>)"
      ]
     },
     "execution_count": 76,
     "metadata": {},
     "output_type": "execute_result"
    }
   ],
   "source": []
  },
  {
   "cell_type": "code",
   "execution_count": null,
   "id": "1e2d37c0-18ec-46fe-9898-ee8d9d6ff871",
   "metadata": {},
   "outputs": [],
   "source": []
  }
 ],
 "metadata": {
  "kernelspec": {
   "display_name": "Python 3 (ipykernel)",
   "language": "python",
   "name": "python3"
  },
  "language_info": {
   "codemirror_mode": {
    "name": "ipython",
    "version": 3
   },
   "file_extension": ".py",
   "mimetype": "text/x-python",
   "name": "python",
   "nbconvert_exporter": "python",
   "pygments_lexer": "ipython3",
   "version": "3.10.5"
  }
 },
 "nbformat": 4,
 "nbformat_minor": 5
}
