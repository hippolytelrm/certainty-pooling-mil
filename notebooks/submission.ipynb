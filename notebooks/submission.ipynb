{
 "cells": [
  {
   "cell_type": "code",
   "execution_count": 1,
   "id": "173b4987-0d6b-42de-a6a3-024ab3193023",
   "metadata": {
    "tags": []
   },
   "outputs": [],
   "source": [
    "%load_ext autoreload\n",
    "%autoreload 2"
   ]
  },
  {
   "cell_type": "code",
   "execution_count": 2,
   "id": "485bcd28",
   "metadata": {
    "tags": []
   },
   "outputs": [
    {
     "name": "stderr",
     "output_type": "stream",
     "text": [
      "/data/ubuntu/.cache/pypoetry/virtualenvs/certainty-pooling-mil-9JOr21zT-py3.10/lib/python3.10/site-packages/tqdm/auto.py:21: TqdmWarning: IProgress not found. Please update jupyter and ipywidgets. See https://ipywidgets.readthedocs.io/en/stable/user_install.html\n",
      "  from .autonotebook import tqdm as notebook_tqdm\n"
     ]
    }
   ],
   "source": [
    "from pathlib import Path\n",
    "from src.config.settings import CONFIG_PATH, DATA_PATH, ROOT_PATH\n",
    "from src.utils.utils import collate_fn, load_yaml\n",
    "import torch\n",
    "import numpy as np\n",
    "\n",
    "config = load_yaml(path=CONFIG_PATH)"
   ]
  },
  {
   "cell_type": "markdown",
   "id": "4b8ff177",
   "metadata": {},
   "source": [
    "# Eval"
   ]
  },
  {
   "cell_type": "code",
   "execution_count": 3,
   "id": "7698a3a4",
   "metadata": {
    "tags": []
   },
   "outputs": [
    {
     "name": "stdout",
     "output_type": "stream",
     "text": [
      "/data/ubuntu/data/saved_models/experiment_31/model0.pt\n",
      "/data/ubuntu/data/saved_models/experiment_31/model1.pt\n",
      "/data/ubuntu/data/saved_models/experiment_31/model2.pt\n",
      "/data/ubuntu/data/saved_models/experiment_31/model3.pt\n",
      "/data/ubuntu/data/saved_models/experiment_31/model4.pt\n",
      "/data/ubuntu/data/saved_models/experiment_31/model5.pt\n",
      "/data/ubuntu/data/saved_models/experiment_31/model6.pt\n",
      "/data/ubuntu/data/saved_models/experiment_31/model7.pt\n",
      "/data/ubuntu/data/saved_models/experiment_31/model8.pt\n",
      "/data/ubuntu/data/saved_models/experiment_31/model9.pt\n",
      "/data/ubuntu/data/saved_models/experiment_31/model10.pt\n",
      "/data/ubuntu/data/saved_models/experiment_31/model11.pt\n",
      "/data/ubuntu/data/saved_models/experiment_31/model12.pt\n",
      "/data/ubuntu/data/saved_models/experiment_31/model13.pt\n",
      "/data/ubuntu/data/saved_models/experiment_31/model14.pt\n",
      "/data/ubuntu/data/saved_models/experiment_31/model15.pt\n",
      "/data/ubuntu/data/saved_models/experiment_31/model16.pt\n",
      "/data/ubuntu/data/saved_models/experiment_31/model17.pt\n",
      "/data/ubuntu/data/saved_models/experiment_31/model18.pt\n",
      "/data/ubuntu/data/saved_models/experiment_31/model19.pt\n",
      "/data/ubuntu/data/saved_models/experiment_31/model20.pt\n",
      "/data/ubuntu/data/saved_models/experiment_31/model21.pt\n",
      "/data/ubuntu/data/saved_models/experiment_31/model22.pt\n",
      "/data/ubuntu/data/saved_models/experiment_31/model23.pt\n",
      "/data/ubuntu/data/saved_models/experiment_31/model24.pt\n",
      "/data/ubuntu/data/saved_models/experiment_31/model25.pt\n"
     ]
    }
   ],
   "source": [
    "path_models = list(Path(config.data.training.save_dir).glob('*.pt'))\n",
    "\n",
    "accuracy , auc, cm = [], [], []\n",
    "\n",
    "for path_model in path_models: \n",
    "    \n",
    "    print(path_model)\n",
    "    saved_model = torch.load(path_model)\n",
    "    accuracy.append(saved_model['acc'])\n",
    "    auc.append(saved_model['auc'])\n",
    "    #cm.append(saved_model['confusion_matrix'])"
   ]
  },
  {
   "cell_type": "code",
   "execution_count": 5,
   "id": "6863d8c8-9fd1-4318-99b6-a7614c7d02b8",
   "metadata": {
    "tags": []
   },
   "outputs": [
    {
     "data": {
      "text/html": [
       "<div>\n",
       "<style scoped>\n",
       "    .dataframe tbody tr th:only-of-type {\n",
       "        vertical-align: middle;\n",
       "    }\n",
       "\n",
       "    .dataframe tbody tr th {\n",
       "        vertical-align: top;\n",
       "    }\n",
       "\n",
       "    .dataframe thead th {\n",
       "        text-align: right;\n",
       "    }\n",
       "</style>\n",
       "<table border=\"1\" class=\"dataframe\">\n",
       "  <thead>\n",
       "    <tr style=\"text-align: right;\">\n",
       "      <th></th>\n",
       "      <th>accuracy</th>\n",
       "      <th>auc</th>\n",
       "    </tr>\n",
       "  </thead>\n",
       "  <tbody>\n",
       "    <tr>\n",
       "      <th>model0.pt</th>\n",
       "      <td>0.595238</td>\n",
       "      <td>0.845882</td>\n",
       "    </tr>\n",
       "    <tr>\n",
       "      <th>model1.pt</th>\n",
       "      <td>0.642857</td>\n",
       "      <td>0.888235</td>\n",
       "    </tr>\n",
       "    <tr>\n",
       "      <th>model2.pt</th>\n",
       "      <td>0.761905</td>\n",
       "      <td>0.897647</td>\n",
       "    </tr>\n",
       "    <tr>\n",
       "      <th>model3.pt</th>\n",
       "      <td>0.595238</td>\n",
       "      <td>0.853529</td>\n",
       "    </tr>\n",
       "    <tr>\n",
       "      <th>model4.pt</th>\n",
       "      <td>0.595238</td>\n",
       "      <td>0.928824</td>\n",
       "    </tr>\n",
       "    <tr>\n",
       "      <th>model5.pt</th>\n",
       "      <td>0.833333</td>\n",
       "      <td>0.874118</td>\n",
       "    </tr>\n",
       "    <tr>\n",
       "      <th>model6.pt</th>\n",
       "      <td>0.595238</td>\n",
       "      <td>0.926471</td>\n",
       "    </tr>\n",
       "    <tr>\n",
       "      <th>model7.pt</th>\n",
       "      <td>0.738095</td>\n",
       "      <td>0.853529</td>\n",
       "    </tr>\n",
       "    <tr>\n",
       "      <th>model8.pt</th>\n",
       "      <td>0.595238</td>\n",
       "      <td>0.880000</td>\n",
       "    </tr>\n",
       "    <tr>\n",
       "      <th>model9.pt</th>\n",
       "      <td>0.797619</td>\n",
       "      <td>0.889412</td>\n",
       "    </tr>\n",
       "    <tr>\n",
       "      <th>model10.pt</th>\n",
       "      <td>0.595238</td>\n",
       "      <td>0.918824</td>\n",
       "    </tr>\n",
       "    <tr>\n",
       "      <th>model11.pt</th>\n",
       "      <td>0.761905</td>\n",
       "      <td>0.848235</td>\n",
       "    </tr>\n",
       "    <tr>\n",
       "      <th>model12.pt</th>\n",
       "      <td>0.595238</td>\n",
       "      <td>0.875294</td>\n",
       "    </tr>\n",
       "    <tr>\n",
       "      <th>model13.pt</th>\n",
       "      <td>0.738095</td>\n",
       "      <td>0.859412</td>\n",
       "    </tr>\n",
       "    <tr>\n",
       "      <th>model14.pt</th>\n",
       "      <td>0.595238</td>\n",
       "      <td>0.822353</td>\n",
       "    </tr>\n",
       "    <tr>\n",
       "      <th>model15.pt</th>\n",
       "      <td>0.595238</td>\n",
       "      <td>0.807647</td>\n",
       "    </tr>\n",
       "    <tr>\n",
       "      <th>model16.pt</th>\n",
       "      <td>0.595238</td>\n",
       "      <td>0.875882</td>\n",
       "    </tr>\n",
       "    <tr>\n",
       "      <th>model17.pt</th>\n",
       "      <td>0.595238</td>\n",
       "      <td>0.811765</td>\n",
       "    </tr>\n",
       "    <tr>\n",
       "      <th>model18.pt</th>\n",
       "      <td>0.595238</td>\n",
       "      <td>0.871176</td>\n",
       "    </tr>\n",
       "    <tr>\n",
       "      <th>model19.pt</th>\n",
       "      <td>0.702381</td>\n",
       "      <td>0.826471</td>\n",
       "    </tr>\n",
       "    <tr>\n",
       "      <th>model20.pt</th>\n",
       "      <td>0.785714</td>\n",
       "      <td>0.834118</td>\n",
       "    </tr>\n",
       "    <tr>\n",
       "      <th>model21.pt</th>\n",
       "      <td>0.738095</td>\n",
       "      <td>0.841176</td>\n",
       "    </tr>\n",
       "    <tr>\n",
       "      <th>model22.pt</th>\n",
       "      <td>0.595238</td>\n",
       "      <td>0.946471</td>\n",
       "    </tr>\n",
       "    <tr>\n",
       "      <th>model23.pt</th>\n",
       "      <td>0.595238</td>\n",
       "      <td>0.851765</td>\n",
       "    </tr>\n",
       "    <tr>\n",
       "      <th>model24.pt</th>\n",
       "      <td>0.595238</td>\n",
       "      <td>0.876471</td>\n",
       "    </tr>\n",
       "    <tr>\n",
       "      <th>model25.pt</th>\n",
       "      <td>0.595238</td>\n",
       "      <td>0.601765</td>\n",
       "    </tr>\n",
       "  </tbody>\n",
       "</table>\n",
       "</div>"
      ],
      "text/plain": [
       "            accuracy       auc\n",
       "model0.pt   0.595238  0.845882\n",
       "model1.pt   0.642857  0.888235\n",
       "model2.pt   0.761905  0.897647\n",
       "model3.pt   0.595238  0.853529\n",
       "model4.pt   0.595238  0.928824\n",
       "model5.pt   0.833333  0.874118\n",
       "model6.pt   0.595238  0.926471\n",
       "model7.pt   0.738095  0.853529\n",
       "model8.pt   0.595238  0.880000\n",
       "model9.pt   0.797619  0.889412\n",
       "model10.pt  0.595238  0.918824\n",
       "model11.pt  0.761905  0.848235\n",
       "model12.pt  0.595238  0.875294\n",
       "model13.pt  0.738095  0.859412\n",
       "model14.pt  0.595238  0.822353\n",
       "model15.pt  0.595238  0.807647\n",
       "model16.pt  0.595238  0.875882\n",
       "model17.pt  0.595238  0.811765\n",
       "model18.pt  0.595238  0.871176\n",
       "model19.pt  0.702381  0.826471\n",
       "model20.pt  0.785714  0.834118\n",
       "model21.pt  0.738095  0.841176\n",
       "model22.pt  0.595238  0.946471\n",
       "model23.pt  0.595238  0.851765\n",
       "model24.pt  0.595238  0.876471\n",
       "model25.pt  0.595238  0.601765"
      ]
     },
     "execution_count": 5,
     "metadata": {},
     "output_type": "execute_result"
    }
   ],
   "source": [
    "import pandas as pd\n",
    "\n",
    "df_metrics = pd.DataFrame({\"accuracy\":accuracy, \"auc\":auc}, index = [i.name for i in path_models]).T\n",
    "df_metrics.T\n"
   ]
  },
  {
   "cell_type": "code",
   "execution_count": 6,
   "id": "4346f2f8-d05c-439c-871c-4710b2b12fa5",
   "metadata": {
    "tags": []
   },
   "outputs": [
    {
     "data": {
      "text/html": [
       "<div>\n",
       "<style scoped>\n",
       "    .dataframe tbody tr th:only-of-type {\n",
       "        vertical-align: middle;\n",
       "    }\n",
       "\n",
       "    .dataframe tbody tr th {\n",
       "        vertical-align: top;\n",
       "    }\n",
       "\n",
       "    .dataframe thead th {\n",
       "        text-align: right;\n",
       "    }\n",
       "</style>\n",
       "<table border=\"1\" class=\"dataframe\">\n",
       "  <thead>\n",
       "    <tr style=\"text-align: right;\">\n",
       "      <th></th>\n",
       "      <th>model0.pt</th>\n",
       "      <th>model1.pt</th>\n",
       "      <th>model2.pt</th>\n",
       "      <th>model3.pt</th>\n",
       "      <th>model4.pt</th>\n",
       "      <th>model5.pt</th>\n",
       "      <th>model6.pt</th>\n",
       "      <th>model7.pt</th>\n",
       "      <th>model8.pt</th>\n",
       "      <th>model9.pt</th>\n",
       "      <th>model10.pt</th>\n",
       "      <th>model11.pt</th>\n",
       "      <th>model12.pt</th>\n",
       "      <th>model13.pt</th>\n",
       "    </tr>\n",
       "  </thead>\n",
       "  <tbody>\n",
       "    <tr>\n",
       "      <th>accuracy</th>\n",
       "      <td>0.803571</td>\n",
       "      <td>0.785714</td>\n",
       "      <td>0.803571</td>\n",
       "      <td>0.848214</td>\n",
       "      <td>0.821429</td>\n",
       "      <td>0.848214</td>\n",
       "      <td>0.776786</td>\n",
       "      <td>0.785714</td>\n",
       "      <td>0.848214</td>\n",
       "      <td>0.785714</td>\n",
       "      <td>0.794643</td>\n",
       "      <td>0.839286</td>\n",
       "      <td>0.830357</td>\n",
       "      <td>0.821429</td>\n",
       "    </tr>\n",
       "    <tr>\n",
       "      <th>auc</th>\n",
       "      <td>0.853400</td>\n",
       "      <td>0.854063</td>\n",
       "      <td>0.864677</td>\n",
       "      <td>0.907463</td>\n",
       "      <td>0.849751</td>\n",
       "      <td>0.873300</td>\n",
       "      <td>0.855390</td>\n",
       "      <td>0.869652</td>\n",
       "      <td>0.865340</td>\n",
       "      <td>0.877944</td>\n",
       "      <td>0.846434</td>\n",
       "      <td>0.902156</td>\n",
       "      <td>0.862023</td>\n",
       "      <td>0.876949</td>\n",
       "    </tr>\n",
       "  </tbody>\n",
       "</table>\n",
       "</div>"
      ],
      "text/plain": [
       "          model0.pt  model1.pt  model2.pt  model3.pt  model4.pt  model5.pt  \\\n",
       "accuracy   0.803571   0.785714   0.803571   0.848214   0.821429   0.848214   \n",
       "auc        0.853400   0.854063   0.864677   0.907463   0.849751   0.873300   \n",
       "\n",
       "          model6.pt  model7.pt  model8.pt  model9.pt  model10.pt  model11.pt  \\\n",
       "accuracy   0.776786   0.785714   0.848214   0.785714    0.794643    0.839286   \n",
       "auc        0.855390   0.869652   0.865340   0.877944    0.846434    0.902156   \n",
       "\n",
       "          model12.pt  model13.pt  \n",
       "accuracy    0.830357    0.821429  \n",
       "auc         0.862023    0.876949  "
      ]
     },
     "execution_count": 6,
     "metadata": {},
     "output_type": "execute_result"
    }
   ],
   "source": [
    "import pandas as pd\n",
    "\n",
    "df_metrics = pd.DataFrame({\"accuracy\":accuracy, \"auc\":auc}, index = [i.name for i in path_models]).T\n",
    "df_metrics\n"
   ]
  },
  {
   "cell_type": "code",
   "execution_count": 4,
   "id": "42e3a95d-a3af-4eeb-8770-8d190c398125",
   "metadata": {
    "tags": []
   },
   "outputs": [
    {
     "data": {
      "text/html": [
       "<div>\n",
       "<style scoped>\n",
       "    .dataframe tbody tr th:only-of-type {\n",
       "        vertical-align: middle;\n",
       "    }\n",
       "\n",
       "    .dataframe tbody tr th {\n",
       "        vertical-align: top;\n",
       "    }\n",
       "\n",
       "    .dataframe thead th {\n",
       "        text-align: right;\n",
       "    }\n",
       "</style>\n",
       "<table border=\"1\" class=\"dataframe\">\n",
       "  <thead>\n",
       "    <tr style=\"text-align: right;\">\n",
       "      <th></th>\n",
       "      <th>model0.pt</th>\n",
       "      <th>model1.pt</th>\n",
       "      <th>model2.pt</th>\n",
       "      <th>model3.pt</th>\n",
       "      <th>model4.pt</th>\n",
       "      <th>model5.pt</th>\n",
       "      <th>model6.pt</th>\n",
       "      <th>model7.pt</th>\n",
       "      <th>model8.pt</th>\n",
       "      <th>model9.pt</th>\n",
       "    </tr>\n",
       "  </thead>\n",
       "  <tbody>\n",
       "    <tr>\n",
       "      <th>accuracy</th>\n",
       "      <td>0.794643</td>\n",
       "      <td>0.821429</td>\n",
       "      <td>0.794643</td>\n",
       "      <td>0.803571</td>\n",
       "      <td>0.785714</td>\n",
       "      <td>0.794643</td>\n",
       "      <td>0.857143</td>\n",
       "      <td>0.857143</td>\n",
       "      <td>0.857143</td>\n",
       "      <td>0.776786</td>\n",
       "    </tr>\n",
       "    <tr>\n",
       "      <th>auc</th>\n",
       "      <td>0.864013</td>\n",
       "      <td>0.873632</td>\n",
       "      <td>0.865672</td>\n",
       "      <td>0.832172</td>\n",
       "      <td>0.843284</td>\n",
       "      <td>0.861692</td>\n",
       "      <td>0.915091</td>\n",
       "      <td>0.896849</td>\n",
       "      <td>0.895522</td>\n",
       "      <td>0.829519</td>\n",
       "    </tr>\n",
       "  </tbody>\n",
       "</table>\n",
       "</div>"
      ],
      "text/plain": [
       "          model0.pt  model1.pt  model2.pt  model3.pt  model4.pt  model5.pt  \\\n",
       "accuracy   0.794643   0.821429   0.794643   0.803571   0.785714   0.794643   \n",
       "auc        0.864013   0.873632   0.865672   0.832172   0.843284   0.861692   \n",
       "\n",
       "          model6.pt  model7.pt  model8.pt  model9.pt  \n",
       "accuracy   0.857143   0.857143   0.857143   0.776786  \n",
       "auc        0.915091   0.896849   0.895522   0.829519  "
      ]
     },
     "execution_count": 4,
     "metadata": {},
     "output_type": "execute_result"
    }
   ],
   "source": [
    "import pandas as pd\n",
    "\n",
    "df_metrics = pd.DataFrame({\"accuracy\":accuracy, \"auc\":auc}, index = [i.name for i in path_models]).T\n",
    "df_metrics"
   ]
  },
  {
   "cell_type": "code",
   "execution_count": 4,
   "id": "96cdb492-872f-4cc3-af2b-0b7b65609753",
   "metadata": {
    "tags": []
   },
   "outputs": [
    {
     "data": {
      "text/html": [
       "<div>\n",
       "<style scoped>\n",
       "    .dataframe tbody tr th:only-of-type {\n",
       "        vertical-align: middle;\n",
       "    }\n",
       "\n",
       "    .dataframe tbody tr th {\n",
       "        vertical-align: top;\n",
       "    }\n",
       "\n",
       "    .dataframe thead th {\n",
       "        text-align: right;\n",
       "    }\n",
       "</style>\n",
       "<table border=\"1\" class=\"dataframe\">\n",
       "  <thead>\n",
       "    <tr style=\"text-align: right;\">\n",
       "      <th></th>\n",
       "      <th>model0.pt</th>\n",
       "      <th>model1.pt</th>\n",
       "      <th>model2.pt</th>\n",
       "      <th>model3.pt</th>\n",
       "      <th>model4.pt</th>\n",
       "      <th>model5.pt</th>\n",
       "      <th>model6.pt</th>\n",
       "      <th>model7.pt</th>\n",
       "      <th>model8.pt</th>\n",
       "      <th>model9.pt</th>\n",
       "    </tr>\n",
       "  </thead>\n",
       "  <tbody>\n",
       "    <tr>\n",
       "      <th>accuracy</th>\n",
       "      <td>0.771429</td>\n",
       "      <td>0.800000</td>\n",
       "      <td>0.785714</td>\n",
       "      <td>0.871429</td>\n",
       "      <td>0.785714</td>\n",
       "      <td>0.857143</td>\n",
       "      <td>0.857143</td>\n",
       "      <td>0.600000</td>\n",
       "      <td>0.642857</td>\n",
       "      <td>0.814286</td>\n",
       "    </tr>\n",
       "    <tr>\n",
       "      <th>auc</th>\n",
       "      <td>0.934524</td>\n",
       "      <td>0.841837</td>\n",
       "      <td>0.886905</td>\n",
       "      <td>0.960884</td>\n",
       "      <td>0.934099</td>\n",
       "      <td>0.868197</td>\n",
       "      <td>0.868197</td>\n",
       "      <td>0.904762</td>\n",
       "      <td>0.917517</td>\n",
       "      <td>0.896259</td>\n",
       "    </tr>\n",
       "  </tbody>\n",
       "</table>\n",
       "</div>"
      ],
      "text/plain": [
       "          model0.pt  model1.pt  model2.pt  model3.pt  model4.pt  model5.pt  \\\n",
       "accuracy   0.771429   0.800000   0.785714   0.871429   0.785714   0.857143   \n",
       "auc        0.934524   0.841837   0.886905   0.960884   0.934099   0.868197   \n",
       "\n",
       "          model6.pt  model7.pt  model8.pt  model9.pt  \n",
       "accuracy   0.857143   0.600000   0.642857   0.814286  \n",
       "auc        0.868197   0.904762   0.917517   0.896259  "
      ]
     },
     "execution_count": 4,
     "metadata": {},
     "output_type": "execute_result"
    }
   ],
   "source": [
    "import pandas as pd\n",
    "\n",
    "df_metrics = pd.DataFrame({\"accuracy\":accuracy, \"auc\":auc}, index = [i.name for i in path_models]).T\n",
    "df_metrics"
   ]
  },
  {
   "cell_type": "code",
   "execution_count": 16,
   "id": "afb9b19a",
   "metadata": {
    "tags": []
   },
   "outputs": [
    {
     "name": "stdout",
     "output_type": "stream",
     "text": [
      "          model3.pt  model11.pt  model9.pt\n",
      "accuracy   0.848214    0.839286   0.785714\n",
      "auc        0.907463    0.902156   0.877944\n"
     ]
    },
    {
     "data": {
      "text/html": [
       "<div>\n",
       "<style scoped>\n",
       "    .dataframe tbody tr th:only-of-type {\n",
       "        vertical-align: middle;\n",
       "    }\n",
       "\n",
       "    .dataframe tbody tr th {\n",
       "        vertical-align: top;\n",
       "    }\n",
       "\n",
       "    .dataframe thead th {\n",
       "        text-align: right;\n",
       "    }\n",
       "</style>\n",
       "<table border=\"1\" class=\"dataframe\">\n",
       "  <thead>\n",
       "    <tr style=\"text-align: right;\">\n",
       "      <th></th>\n",
       "      <th>ID</th>\n",
       "      <th>Target</th>\n",
       "      <th>Target</th>\n",
       "      <th>Target</th>\n",
       "    </tr>\n",
       "  </thead>\n",
       "  <tbody>\n",
       "    <tr>\n",
       "      <th>33</th>\n",
       "      <td>0.0</td>\n",
       "      <td>0.308977</td>\n",
       "      <td>0.369084</td>\n",
       "      <td>0.262538</td>\n",
       "    </tr>\n",
       "    <tr>\n",
       "      <th>51</th>\n",
       "      <td>4.0</td>\n",
       "      <td>0.295342</td>\n",
       "      <td>0.372893</td>\n",
       "      <td>0.335715</td>\n",
       "    </tr>\n",
       "    <tr>\n",
       "      <th>40</th>\n",
       "      <td>16.0</td>\n",
       "      <td>1.000000</td>\n",
       "      <td>0.514151</td>\n",
       "      <td>1.000000</td>\n",
       "    </tr>\n",
       "    <tr>\n",
       "      <th>39</th>\n",
       "      <td>17.0</td>\n",
       "      <td>1.000000</td>\n",
       "      <td>0.513965</td>\n",
       "      <td>1.000000</td>\n",
       "    </tr>\n",
       "    <tr>\n",
       "      <th>57</th>\n",
       "      <td>20.0</td>\n",
       "      <td>0.976886</td>\n",
       "      <td>0.462409</td>\n",
       "      <td>0.344998</td>\n",
       "    </tr>\n",
       "    <tr>\n",
       "      <th>...</th>\n",
       "      <td>...</td>\n",
       "      <td>...</td>\n",
       "      <td>...</td>\n",
       "      <td>...</td>\n",
       "    </tr>\n",
       "    <tr>\n",
       "      <th>31</th>\n",
       "      <td>389.0</td>\n",
       "      <td>0.207418</td>\n",
       "      <td>0.340256</td>\n",
       "      <td>0.257769</td>\n",
       "    </tr>\n",
       "    <tr>\n",
       "      <th>79</th>\n",
       "      <td>391.0</td>\n",
       "      <td>0.314434</td>\n",
       "      <td>0.385984</td>\n",
       "      <td>0.260653</td>\n",
       "    </tr>\n",
       "    <tr>\n",
       "      <th>75</th>\n",
       "      <td>392.0</td>\n",
       "      <td>0.280937</td>\n",
       "      <td>0.314774</td>\n",
       "      <td>0.318194</td>\n",
       "    </tr>\n",
       "    <tr>\n",
       "      <th>59</th>\n",
       "      <td>395.0</td>\n",
       "      <td>0.337576</td>\n",
       "      <td>0.373854</td>\n",
       "      <td>0.293234</td>\n",
       "    </tr>\n",
       "    <tr>\n",
       "      <th>53</th>\n",
       "      <td>399.0</td>\n",
       "      <td>0.280450</td>\n",
       "      <td>0.462137</td>\n",
       "      <td>0.295454</td>\n",
       "    </tr>\n",
       "  </tbody>\n",
       "</table>\n",
       "<p>120 rows × 4 columns</p>\n",
       "</div>"
      ],
      "text/plain": [
       "       ID    Target    Target    Target\n",
       "33    0.0  0.308977  0.369084  0.262538\n",
       "51    4.0  0.295342  0.372893  0.335715\n",
       "40   16.0  1.000000  0.514151  1.000000\n",
       "39   17.0  1.000000  0.513965  1.000000\n",
       "57   20.0  0.976886  0.462409  0.344998\n",
       "..    ...       ...       ...       ...\n",
       "31  389.0  0.207418  0.340256  0.257769\n",
       "79  391.0  0.314434  0.385984  0.260653\n",
       "75  392.0  0.280937  0.314774  0.318194\n",
       "59  395.0  0.337576  0.373854  0.293234\n",
       "53  399.0  0.280450  0.462137  0.295454\n",
       "\n",
       "[120 rows x 4 columns]"
      ]
     },
     "execution_count": 16,
     "metadata": {},
     "output_type": "execute_result"
    }
   ],
   "source": [
    "import pandas as pd\n",
    "\n",
    "k=3\n",
    "idx = (-np.asarray(auc)).argsort()[:k]\n",
    "indexes = np.concatenate([np.array([0]) ,  idx])\n",
    "print(df_metrics.iloc[:,idx])\n",
    "\n",
    "csv_paths = list(Path(\"/data/ubuntu/data/saved_models/experiment_29/\").glob(\"sub*.csv\"))\n",
    "\n",
    "li = []\n",
    "\n",
    "for filename in csv_paths:\n",
    "    df = pd.read_csv(filename)\n",
    "    li.append(df)\n",
    "\n",
    "frame = pd.concat(li, axis=1, ignore_index=False)\n",
    "frame = frame.T.drop_duplicates().T\n",
    "frame = frame.sort_values(by=\"ID\")\n",
    "\n",
    "frame = frame.iloc[:,indexes]\n",
    "\n",
    "mean_df = pd.DataFrame({\"ID\":frame.ID, \"Target\":frame.Target.mean(axis=1) })\n",
    "mean_df.to_csv(\"/data/ubuntu/data/saved_models/experiment_29/mean_all.csv\", index=False)\n",
    "\n",
    "frame"
   ]
  },
  {
   "cell_type": "code",
   "execution_count": 13,
   "id": "2e88b3ec-d4d9-4b3f-950d-d5e9f37c22fe",
   "metadata": {
    "tags": []
   },
   "outputs": [
    {
     "data": {
      "text/html": [
       "<div>\n",
       "<style scoped>\n",
       "    .dataframe tbody tr th:only-of-type {\n",
       "        vertical-align: middle;\n",
       "    }\n",
       "\n",
       "    .dataframe tbody tr th {\n",
       "        vertical-align: top;\n",
       "    }\n",
       "\n",
       "    .dataframe thead th {\n",
       "        text-align: right;\n",
       "    }\n",
       "</style>\n",
       "<table border=\"1\" class=\"dataframe\">\n",
       "  <thead>\n",
       "    <tr style=\"text-align: right;\">\n",
       "      <th></th>\n",
       "      <th>ID</th>\n",
       "      <th>Target</th>\n",
       "      <th>Target</th>\n",
       "      <th>Target</th>\n",
       "      <th>Target</th>\n",
       "      <th>Target</th>\n",
       "      <th>Target</th>\n",
       "      <th>Target</th>\n",
       "      <th>Target</th>\n",
       "      <th>Target</th>\n",
       "      <th>Target</th>\n",
       "    </tr>\n",
       "  </thead>\n",
       "  <tbody>\n",
       "    <tr>\n",
       "      <th>33</th>\n",
       "      <td>0.0</td>\n",
       "      <td>0.357355</td>\n",
       "      <td>0.372579</td>\n",
       "      <td>0.319941</td>\n",
       "      <td>0.294237</td>\n",
       "      <td>0.339035</td>\n",
       "      <td>0.336965</td>\n",
       "      <td>0.315562</td>\n",
       "      <td>0.378794</td>\n",
       "      <td>0.363297</td>\n",
       "      <td>0.325218</td>\n",
       "    </tr>\n",
       "    <tr>\n",
       "      <th>51</th>\n",
       "      <td>4.0</td>\n",
       "      <td>0.322347</td>\n",
       "      <td>0.395087</td>\n",
       "      <td>0.338097</td>\n",
       "      <td>0.271006</td>\n",
       "      <td>0.413864</td>\n",
       "      <td>0.386140</td>\n",
       "      <td>0.402285</td>\n",
       "      <td>0.379547</td>\n",
       "      <td>0.361234</td>\n",
       "      <td>0.370889</td>\n",
       "    </tr>\n",
       "    <tr>\n",
       "      <th>40</th>\n",
       "      <td>16.0</td>\n",
       "      <td>1.000000</td>\n",
       "      <td>1.000000</td>\n",
       "      <td>1.000000</td>\n",
       "      <td>1.000000</td>\n",
       "      <td>1.000000</td>\n",
       "      <td>1.000000</td>\n",
       "      <td>1.000000</td>\n",
       "      <td>0.999999</td>\n",
       "      <td>1.000000</td>\n",
       "      <td>1.000000</td>\n",
       "    </tr>\n",
       "    <tr>\n",
       "      <th>39</th>\n",
       "      <td>17.0</td>\n",
       "      <td>1.000000</td>\n",
       "      <td>1.000000</td>\n",
       "      <td>1.000000</td>\n",
       "      <td>1.000000</td>\n",
       "      <td>1.000000</td>\n",
       "      <td>1.000000</td>\n",
       "      <td>0.999999</td>\n",
       "      <td>0.999982</td>\n",
       "      <td>1.000000</td>\n",
       "      <td>1.000000</td>\n",
       "    </tr>\n",
       "    <tr>\n",
       "      <th>57</th>\n",
       "      <td>20.0</td>\n",
       "      <td>0.385189</td>\n",
       "      <td>0.382043</td>\n",
       "      <td>0.382536</td>\n",
       "      <td>0.986070</td>\n",
       "      <td>0.409642</td>\n",
       "      <td>0.441334</td>\n",
       "      <td>0.391211</td>\n",
       "      <td>0.996373</td>\n",
       "      <td>0.380170</td>\n",
       "      <td>0.931758</td>\n",
       "    </tr>\n",
       "    <tr>\n",
       "      <th>...</th>\n",
       "      <td>...</td>\n",
       "      <td>...</td>\n",
       "      <td>...</td>\n",
       "      <td>...</td>\n",
       "      <td>...</td>\n",
       "      <td>...</td>\n",
       "      <td>...</td>\n",
       "      <td>...</td>\n",
       "      <td>...</td>\n",
       "      <td>...</td>\n",
       "      <td>...</td>\n",
       "    </tr>\n",
       "    <tr>\n",
       "      <th>31</th>\n",
       "      <td>389.0</td>\n",
       "      <td>0.292611</td>\n",
       "      <td>0.351041</td>\n",
       "      <td>0.304495</td>\n",
       "      <td>0.261427</td>\n",
       "      <td>0.297447</td>\n",
       "      <td>0.250010</td>\n",
       "      <td>0.255749</td>\n",
       "      <td>0.325699</td>\n",
       "      <td>0.255725</td>\n",
       "      <td>0.321945</td>\n",
       "    </tr>\n",
       "    <tr>\n",
       "      <th>79</th>\n",
       "      <td>391.0</td>\n",
       "      <td>0.313193</td>\n",
       "      <td>0.392626</td>\n",
       "      <td>0.284111</td>\n",
       "      <td>0.246503</td>\n",
       "      <td>0.889148</td>\n",
       "      <td>0.343825</td>\n",
       "      <td>0.293159</td>\n",
       "      <td>0.393196</td>\n",
       "      <td>0.285956</td>\n",
       "      <td>0.287725</td>\n",
       "    </tr>\n",
       "    <tr>\n",
       "      <th>75</th>\n",
       "      <td>392.0</td>\n",
       "      <td>0.290400</td>\n",
       "      <td>0.316780</td>\n",
       "      <td>0.315656</td>\n",
       "      <td>0.190226</td>\n",
       "      <td>0.265208</td>\n",
       "      <td>0.330556</td>\n",
       "      <td>0.299251</td>\n",
       "      <td>0.338401</td>\n",
       "      <td>0.274983</td>\n",
       "      <td>0.260453</td>\n",
       "    </tr>\n",
       "    <tr>\n",
       "      <th>59</th>\n",
       "      <td>395.0</td>\n",
       "      <td>0.327027</td>\n",
       "      <td>0.404287</td>\n",
       "      <td>0.360869</td>\n",
       "      <td>0.287722</td>\n",
       "      <td>0.348581</td>\n",
       "      <td>0.450846</td>\n",
       "      <td>0.381039</td>\n",
       "      <td>0.394759</td>\n",
       "      <td>0.366284</td>\n",
       "      <td>0.403528</td>\n",
       "    </tr>\n",
       "    <tr>\n",
       "      <th>53</th>\n",
       "      <td>399.0</td>\n",
       "      <td>0.337164</td>\n",
       "      <td>0.388138</td>\n",
       "      <td>0.405232</td>\n",
       "      <td>0.226707</td>\n",
       "      <td>0.995355</td>\n",
       "      <td>0.371839</td>\n",
       "      <td>0.383136</td>\n",
       "      <td>0.995453</td>\n",
       "      <td>0.354364</td>\n",
       "      <td>0.331227</td>\n",
       "    </tr>\n",
       "  </tbody>\n",
       "</table>\n",
       "<p>120 rows × 11 columns</p>\n",
       "</div>"
      ],
      "text/plain": [
       "       ID    Target    Target    Target    Target    Target    Target  \\\n",
       "33    0.0  0.357355  0.372579  0.319941  0.294237  0.339035  0.336965   \n",
       "51    4.0  0.322347  0.395087  0.338097  0.271006  0.413864  0.386140   \n",
       "40   16.0  1.000000  1.000000  1.000000  1.000000  1.000000  1.000000   \n",
       "39   17.0  1.000000  1.000000  1.000000  1.000000  1.000000  1.000000   \n",
       "57   20.0  0.385189  0.382043  0.382536  0.986070  0.409642  0.441334   \n",
       "..    ...       ...       ...       ...       ...       ...       ...   \n",
       "31  389.0  0.292611  0.351041  0.304495  0.261427  0.297447  0.250010   \n",
       "79  391.0  0.313193  0.392626  0.284111  0.246503  0.889148  0.343825   \n",
       "75  392.0  0.290400  0.316780  0.315656  0.190226  0.265208  0.330556   \n",
       "59  395.0  0.327027  0.404287  0.360869  0.287722  0.348581  0.450846   \n",
       "53  399.0  0.337164  0.388138  0.405232  0.226707  0.995355  0.371839   \n",
       "\n",
       "      Target    Target    Target    Target  \n",
       "33  0.315562  0.378794  0.363297  0.325218  \n",
       "51  0.402285  0.379547  0.361234  0.370889  \n",
       "40  1.000000  0.999999  1.000000  1.000000  \n",
       "39  0.999999  0.999982  1.000000  1.000000  \n",
       "57  0.391211  0.996373  0.380170  0.931758  \n",
       "..       ...       ...       ...       ...  \n",
       "31  0.255749  0.325699  0.255725  0.321945  \n",
       "79  0.293159  0.393196  0.285956  0.287725  \n",
       "75  0.299251  0.338401  0.274983  0.260453  \n",
       "59  0.381039  0.394759  0.366284  0.403528  \n",
       "53  0.383136  0.995453  0.354364  0.331227  \n",
       "\n",
       "[120 rows x 11 columns]"
      ]
     },
     "execution_count": 13,
     "metadata": {},
     "output_type": "execute_result"
    }
   ],
   "source": [
    "frame"
   ]
  },
  {
   "cell_type": "code",
   "execution_count": 12,
   "id": "d825a653-3c84-4943-82b7-0a41ee3cb261",
   "metadata": {
    "tags": []
   },
   "outputs": [],
   "source": [
    "frame.to_csv(\"/data/ubuntu/data/saved_models/experiment_28/best1.csv\", index=False)"
   ]
  },
  {
   "cell_type": "code",
   "execution_count": 6,
   "id": "1f36d073",
   "metadata": {
    "tags": []
   },
   "outputs": [
    {
     "name": "stdout",
     "output_type": "stream",
     "text": [
      "AUC = 0.8677446102819237 +/- 0.02697184861881918\n",
      "ACC = 0.8142857142857143 +/- 0.03009339204705841\n"
     ]
    }
   ],
   "source": [
    "print(f\"AUC = {np.mean(auc)} +/- {np.std(auc)}\")\n",
    "print(f\"ACC = {np.mean(accuracy)} +/- {np.std(accuracy)}\")"
   ]
  },
  {
   "cell_type": "code",
   "execution_count": 13,
   "id": "ed031887-9e89-4e8c-ad63-6c3a83c3c677",
   "metadata": {
    "tags": []
   },
   "outputs": [
    {
     "name": "stdout",
     "output_type": "stream",
     "text": [
      "          model1.pt  model2.pt  model0.pt  model3.pt\n",
      "accuracy   0.821429   0.794643   0.794643   0.803571\n",
      "auc        0.873632   0.865672   0.864013   0.832172\n"
     ]
    }
   ],
   "source": [
    "import pandas as pd\n",
    "\n",
    "k=-1\n",
    "idx = (-np.asarray(auc)).argsort()[:k]\n",
    "indexes = np.concatenate([np.array([0]) ,  idx+ 1])\n",
    "print(df_metrics.iloc[:,idx])\n",
    "\n",
    "csv_paths = list(Path(\"/data/ubuntu/data/saved_models/experiment_28/\").glob(\"sub*.csv\"))\n",
    "\n",
    "li = []\n",
    "\n",
    "for filename in csv_paths:\n",
    "    df = pd.read_csv(filename)\n",
    "    li.append(df)\n",
    "\n",
    "frame = pd.concat(li, axis=1, ignore_index=False)\n",
    "frame = frame.T.drop_duplicates().T\n",
    "frame = frame.sort_values(by=\"ID\")\n",
    "\n",
    "frame = frame.iloc[:,indexes]\n",
    "\n",
    "mean_df = pd.DataFrame({\"ID\":frame.ID, \"Target\":frame.Target.mean(axis=1) })\n",
    "mean_df.to_csv(\"/data/ubuntu/data/saved_models/experiment_28/mean_4.csv\", index=False)"
   ]
  },
  {
   "cell_type": "code",
   "execution_count": 14,
   "id": "6ce60808-3d04-4610-b5c6-85e952bd7230",
   "metadata": {
    "tags": []
   },
   "outputs": [
    {
     "data": {
      "text/html": [
       "<div>\n",
       "<style scoped>\n",
       "    .dataframe tbody tr th:only-of-type {\n",
       "        vertical-align: middle;\n",
       "    }\n",
       "\n",
       "    .dataframe tbody tr th {\n",
       "        vertical-align: top;\n",
       "    }\n",
       "\n",
       "    .dataframe thead th {\n",
       "        text-align: right;\n",
       "    }\n",
       "</style>\n",
       "<table border=\"1\" class=\"dataframe\">\n",
       "  <thead>\n",
       "    <tr style=\"text-align: right;\">\n",
       "      <th></th>\n",
       "      <th>ID</th>\n",
       "      <th>Target</th>\n",
       "    </tr>\n",
       "  </thead>\n",
       "  <tbody>\n",
       "    <tr>\n",
       "      <th>33</th>\n",
       "      <td>0.0</td>\n",
       "      <td>0.327258</td>\n",
       "    </tr>\n",
       "    <tr>\n",
       "      <th>51</th>\n",
       "      <td>4.0</td>\n",
       "      <td>0.331281</td>\n",
       "    </tr>\n",
       "    <tr>\n",
       "      <th>40</th>\n",
       "      <td>16.0</td>\n",
       "      <td>1.000000</td>\n",
       "    </tr>\n",
       "    <tr>\n",
       "      <th>39</th>\n",
       "      <td>17.0</td>\n",
       "      <td>1.000000</td>\n",
       "    </tr>\n",
       "    <tr>\n",
       "      <th>57</th>\n",
       "      <td>20.0</td>\n",
       "      <td>0.677062</td>\n",
       "    </tr>\n",
       "    <tr>\n",
       "      <th>...</th>\n",
       "      <td>...</td>\n",
       "      <td>...</td>\n",
       "    </tr>\n",
       "    <tr>\n",
       "      <th>31</th>\n",
       "      <td>389.0</td>\n",
       "      <td>0.304017</td>\n",
       "    </tr>\n",
       "    <tr>\n",
       "      <th>79</th>\n",
       "      <td>391.0</td>\n",
       "      <td>0.309069</td>\n",
       "    </tr>\n",
       "    <tr>\n",
       "      <th>75</th>\n",
       "      <td>392.0</td>\n",
       "      <td>0.274969</td>\n",
       "    </tr>\n",
       "    <tr>\n",
       "      <th>59</th>\n",
       "      <td>395.0</td>\n",
       "      <td>0.374435</td>\n",
       "    </tr>\n",
       "    <tr>\n",
       "      <th>53</th>\n",
       "      <td>399.0</td>\n",
       "      <td>0.470762</td>\n",
       "    </tr>\n",
       "  </tbody>\n",
       "</table>\n",
       "<p>120 rows × 2 columns</p>\n",
       "</div>"
      ],
      "text/plain": [
       "       ID    Target\n",
       "33    0.0  0.327258\n",
       "51    4.0  0.331281\n",
       "40   16.0  1.000000\n",
       "39   17.0  1.000000\n",
       "57   20.0  0.677062\n",
       "..    ...       ...\n",
       "31  389.0  0.304017\n",
       "79  391.0  0.309069\n",
       "75  392.0  0.274969\n",
       "59  395.0  0.374435\n",
       "53  399.0  0.470762\n",
       "\n",
       "[120 rows x 2 columns]"
      ]
     },
     "execution_count": 14,
     "metadata": {},
     "output_type": "execute_result"
    }
   ],
   "source": [
    "mean_df"
   ]
  },
  {
   "cell_type": "code",
   "execution_count": 5,
   "id": "b87412aa",
   "metadata": {
    "tags": []
   },
   "outputs": [
    {
     "name": "stdout",
     "output_type": "stream",
     "text": [
      "[PosixPath('/data/ubuntu/data/saved_models/experiment_27/submission_model0.csv'), PosixPath('/data/ubuntu/data/saved_models/experiment_27/submission_model1.csv')]\n"
     ]
    },
    {
     "data": {
      "text/html": [
       "<div>\n",
       "<style scoped>\n",
       "    .dataframe tbody tr th:only-of-type {\n",
       "        vertical-align: middle;\n",
       "    }\n",
       "\n",
       "    .dataframe tbody tr th {\n",
       "        vertical-align: top;\n",
       "    }\n",
       "\n",
       "    .dataframe thead th {\n",
       "        text-align: right;\n",
       "    }\n",
       "</style>\n",
       "<table border=\"1\" class=\"dataframe\">\n",
       "  <thead>\n",
       "    <tr style=\"text-align: right;\">\n",
       "      <th></th>\n",
       "      <th>ID</th>\n",
       "      <th>Target</th>\n",
       "      <th>Target</th>\n",
       "    </tr>\n",
       "  </thead>\n",
       "  <tbody>\n",
       "    <tr>\n",
       "      <th>0</th>\n",
       "      <td>103.0</td>\n",
       "      <td>0.457050</td>\n",
       "      <td>0.402489</td>\n",
       "    </tr>\n",
       "    <tr>\n",
       "      <th>1</th>\n",
       "      <td>117.0</td>\n",
       "      <td>0.486045</td>\n",
       "      <td>0.386101</td>\n",
       "    </tr>\n",
       "    <tr>\n",
       "      <th>2</th>\n",
       "      <td>62.0</td>\n",
       "      <td>0.487977</td>\n",
       "      <td>0.345072</td>\n",
       "    </tr>\n",
       "    <tr>\n",
       "      <th>3</th>\n",
       "      <td>328.0</td>\n",
       "      <td>0.424411</td>\n",
       "      <td>0.312331</td>\n",
       "    </tr>\n",
       "    <tr>\n",
       "      <th>4</th>\n",
       "      <td>314.0</td>\n",
       "      <td>0.584355</td>\n",
       "      <td>1.000000</td>\n",
       "    </tr>\n",
       "    <tr>\n",
       "      <th>...</th>\n",
       "      <td>...</td>\n",
       "      <td>...</td>\n",
       "      <td>...</td>\n",
       "    </tr>\n",
       "    <tr>\n",
       "      <th>115</th>\n",
       "      <td>91.0</td>\n",
       "      <td>0.412152</td>\n",
       "      <td>0.345833</td>\n",
       "    </tr>\n",
       "    <tr>\n",
       "      <th>116</th>\n",
       "      <td>330.0</td>\n",
       "      <td>0.456409</td>\n",
       "      <td>0.313811</td>\n",
       "    </tr>\n",
       "    <tr>\n",
       "      <th>117</th>\n",
       "      <td>324.0</td>\n",
       "      <td>0.465050</td>\n",
       "      <td>0.364219</td>\n",
       "    </tr>\n",
       "    <tr>\n",
       "      <th>118</th>\n",
       "      <td>318.0</td>\n",
       "      <td>0.457912</td>\n",
       "      <td>0.383363</td>\n",
       "    </tr>\n",
       "    <tr>\n",
       "      <th>119</th>\n",
       "      <td>126.0</td>\n",
       "      <td>0.530596</td>\n",
       "      <td>0.325746</td>\n",
       "    </tr>\n",
       "  </tbody>\n",
       "</table>\n",
       "<p>120 rows × 3 columns</p>\n",
       "</div>"
      ],
      "text/plain": [
       "        ID    Target    Target\n",
       "0    103.0  0.457050  0.402489\n",
       "1    117.0  0.486045  0.386101\n",
       "2     62.0  0.487977  0.345072\n",
       "3    328.0  0.424411  0.312331\n",
       "4    314.0  0.584355  1.000000\n",
       "..     ...       ...       ...\n",
       "115   91.0  0.412152  0.345833\n",
       "116  330.0  0.456409  0.313811\n",
       "117  324.0  0.465050  0.364219\n",
       "118  318.0  0.457912  0.383363\n",
       "119  126.0  0.530596  0.325746\n",
       "\n",
       "[120 rows x 3 columns]"
      ]
     },
     "execution_count": 5,
     "metadata": {},
     "output_type": "execute_result"
    }
   ],
   "source": [
    "import pandas as pd\n",
    "\n",
    "csv_paths = list(Path(\"/data/ubuntu/data/saved_models/experiment_27/\").glob(\"sub*.csv\"))[:3]\n",
    "print(csv_paths)\n",
    "\n",
    "li = []\n",
    "\n",
    "for filename in csv_paths:\n",
    "    df = pd.read_csv(filename)\n",
    "    li.append(df)\n",
    "\n",
    "frame = pd.concat(li, axis=1, ignore_index=False)\n",
    "frame = frame.T.drop_duplicates().T\n",
    "frame"
   ]
  },
  {
   "cell_type": "code",
   "execution_count": 26,
   "id": "bcaf92c8-7e07-4b56-9a01-2407f54b3801",
   "metadata": {
    "tags": []
   },
   "outputs": [
    {
     "data": {
      "text/html": [
       "<div>\n",
       "<style scoped>\n",
       "    .dataframe tbody tr th:only-of-type {\n",
       "        vertical-align: middle;\n",
       "    }\n",
       "\n",
       "    .dataframe tbody tr th {\n",
       "        vertical-align: top;\n",
       "    }\n",
       "\n",
       "    .dataframe thead th {\n",
       "        text-align: right;\n",
       "    }\n",
       "</style>\n",
       "<table border=\"1\" class=\"dataframe\">\n",
       "  <thead>\n",
       "    <tr style=\"text-align: right;\">\n",
       "      <th></th>\n",
       "      <th>ID</th>\n",
       "      <th>Target</th>\n",
       "    </tr>\n",
       "  </thead>\n",
       "  <tbody>\n",
       "    <tr>\n",
       "      <th>0</th>\n",
       "      <td>103.0</td>\n",
       "      <td>0.423854</td>\n",
       "    </tr>\n",
       "    <tr>\n",
       "      <th>1</th>\n",
       "      <td>117.0</td>\n",
       "      <td>0.781928</td>\n",
       "    </tr>\n",
       "    <tr>\n",
       "      <th>2</th>\n",
       "      <td>62.0</td>\n",
       "      <td>0.596442</td>\n",
       "    </tr>\n",
       "    <tr>\n",
       "      <th>3</th>\n",
       "      <td>328.0</td>\n",
       "      <td>0.247112</td>\n",
       "    </tr>\n",
       "    <tr>\n",
       "      <th>4</th>\n",
       "      <td>314.0</td>\n",
       "      <td>0.999245</td>\n",
       "    </tr>\n",
       "    <tr>\n",
       "      <th>...</th>\n",
       "      <td>...</td>\n",
       "      <td>...</td>\n",
       "    </tr>\n",
       "    <tr>\n",
       "      <th>115</th>\n",
       "      <td>91.0</td>\n",
       "      <td>0.261611</td>\n",
       "    </tr>\n",
       "    <tr>\n",
       "      <th>116</th>\n",
       "      <td>330.0</td>\n",
       "      <td>0.636995</td>\n",
       "    </tr>\n",
       "    <tr>\n",
       "      <th>117</th>\n",
       "      <td>324.0</td>\n",
       "      <td>0.383779</td>\n",
       "    </tr>\n",
       "    <tr>\n",
       "      <th>118</th>\n",
       "      <td>318.0</td>\n",
       "      <td>0.686831</td>\n",
       "    </tr>\n",
       "    <tr>\n",
       "      <th>119</th>\n",
       "      <td>126.0</td>\n",
       "      <td>0.558887</td>\n",
       "    </tr>\n",
       "  </tbody>\n",
       "</table>\n",
       "<p>120 rows × 2 columns</p>\n",
       "</div>"
      ],
      "text/plain": [
       "        ID    Target\n",
       "0    103.0  0.423854\n",
       "1    117.0  0.781928\n",
       "2     62.0  0.596442\n",
       "3    328.0  0.247112\n",
       "4    314.0  0.999245\n",
       "..     ...       ...\n",
       "115   91.0  0.261611\n",
       "116  330.0  0.636995\n",
       "117  324.0  0.383779\n",
       "118  318.0  0.686831\n",
       "119  126.0  0.558887\n",
       "\n",
       "[120 rows x 2 columns]"
      ]
     },
     "execution_count": 26,
     "metadata": {},
     "output_type": "execute_result"
    }
   ],
   "source": [
    "mean_df"
   ]
  },
  {
   "cell_type": "code",
   "execution_count": 6,
   "id": "cd8d3d51",
   "metadata": {
    "tags": []
   },
   "outputs": [],
   "source": [
    "mean_df = pd.DataFrame({\"ID\":frame.ID, \"Target\":frame.Target.mean(axis=1) })\n",
    "mean_df.to_csv(\"/data/ubuntu/data/saved_models/experiment_27/mean_2_models.csv\", index=False)"
   ]
  },
  {
   "cell_type": "markdown",
   "id": "23b8d10f",
   "metadata": {},
   "source": [
    "# Train"
   ]
  },
  {
   "cell_type": "code",
   "execution_count": 3,
   "id": "81256aa6",
   "metadata": {
    "tags": []
   },
   "outputs": [],
   "source": [
    "from pathlib import Path\n",
    "\n",
    "import numpy as np\n",
    "import pandas as pd\n",
    "import torch\n",
    "from sklearn.model_selection import train_test_split\n",
    "from torch.utils.data import DataLoader\n",
    "from torch.utils.tensorboard import SummaryWriter\n",
    "from tqdm import tqdm\n",
    "\n",
    "from src.config.settings import CONFIG_PATH, DATA_PATH\n",
    "from src.data.dataset import bag_dataset\n",
    "from src.models.evaluation import evaluation\n",
    "from src.models.model import Paper_network\n",
    "from src.models.training import train_loop\n",
    "from src.utils.utils import collate_fn, load_yaml\n",
    "\n",
    "\n",
    "config = load_yaml(path=CONFIG_PATH)\n",
    "\n",
    "metadata_file = DATA_PATH / config.data.training.metadata_file\n",
    "data_root = DATA_PATH / config.data.training.data_dir\n",
    "\n",
    "save_path = Path(config.data.training.save_dir)\n",
    "save_path.mkdir(exist_ok=True)\n",
    "\n",
    "save_model_path = save_path / config.data.training.saved_model\n",
    "checkpoint_path = config.data.training.previous_model\n",
    "\n",
    "df_annotated_bags = pd.read_csv(metadata_file)\n",
    "\n",
    "id_train_bag, id_val_bag, target_train_bag, target_val_bag = train_test_split(\n",
    "    df_annotated_bags.ID.to_list(), df_annotated_bags.Target.to_list(), test_size=config.data.split, random_state=42\n",
    ")\n",
    "\n",
    "config_tensorboard = config.data.training.tensorboard\n",
    "if config_tensorboard.use_tensorboard:\n",
    "    writer = SummaryWriter(config_tensorboard.tensorboard_writer)\n",
    "\n",
    "epochs = config.data.training.epochs\n",
    "lr = config.data.training.lr\n",
    "batch_size = config.data.training.batch_size\n",
    "\n",
    "train_ds = bag_dataset(id_train_bag, target_train_bag, data_root, random_selection=True)\n",
    "val_ds = bag_dataset(id_val_bag, target_val_bag, data_root, random_selection=False)\n",
    "\n",
    "train_pooling_loader = DataLoader(\n",
    "    train_ds, batch_size=32, shuffle=True, num_workers=4, collate_fn=collate_fn\n",
    ")\n",
    "validation_pooling_loader = DataLoader(\n",
    "    val_ds, batch_size=batch_size, shuffle=False, num_workers=4, collate_fn=collate_fn\n",
    ")\n"
   ]
  },
  {
   "cell_type": "code",
   "execution_count": 40,
   "id": "d1d63311-a7a5-4031-9c4c-d5e3dc8435a2",
   "metadata": {
    "tags": []
   },
   "outputs": [],
   "source": [
    "minimum = 1000\n",
    "target_min = -1\n",
    "for batch_features, batch_targets in train_ds: \n",
    "    if batch_features.shape[0] < minimum : \n",
    "        minimum = batch_features.shape[0]\n",
    "        target_min = batch_targets\n",
    "    "
   ]
  },
  {
   "cell_type": "code",
   "execution_count": 41,
   "id": "5f303647-048e-4cb4-bed1-6a8012933c9f",
   "metadata": {
    "tags": []
   },
   "outputs": [
    {
     "data": {
      "text/plain": [
       "(40, 0)"
      ]
     },
     "execution_count": 41,
     "metadata": {},
     "output_type": "execute_result"
    }
   ],
   "source": [
    "minimum, target_min"
   ]
  },
  {
   "cell_type": "code",
   "execution_count": 4,
   "id": "844ea835-87ef-4c90-b76f-b33a7226153d",
   "metadata": {
    "tags": []
   },
   "outputs": [],
   "source": []
  },
  {
   "cell_type": "code",
   "execution_count": 22,
   "id": "4c2d12bd-73f1-4f5c-b673-4d4aaaf83abc",
   "metadata": {
    "tags": []
   },
   "outputs": [
    {
     "data": {
      "text/plain": [
       "((128, 2048), tuple)"
      ]
     },
     "execution_count": 22,
     "metadata": {},
     "output_type": "execute_result"
    }
   ],
   "source": [
    "batch_features[1].shape, type(batch_features)"
   ]
  },
  {
   "cell_type": "code",
   "execution_count": 6,
   "id": "827c8e37-84bd-4997-9a12-1f958716efdd",
   "metadata": {
    "tags": []
   },
   "outputs": [
    {
     "data": {
      "text/plain": [
       "(torch.Size([16296, 2048]), 16384)"
      ]
     },
     "execution_count": 6,
     "metadata": {},
     "output_type": "execute_result"
    }
   ],
   "source": [
    "cat.shape , 128**2"
   ]
  },
  {
   "cell_type": "code",
   "execution_count": 4,
   "id": "40a45b51-3548-4e2b-894c-dbded70341f2",
   "metadata": {
    "tags": []
   },
   "outputs": [],
   "source": [
    "device = \"cuda\" if torch.cuda.is_available() else \"cpu\"\n",
    "\n",
    "model = Paper_network(input_size=2048, dropout=0.5)\n",
    "model = model.to(device)\n",
    "\n",
    "criterion = torch.nn.BCELoss()\n",
    "optimizer = torch.optim.Adam(model.parameters(), lr=lr)\n",
    "\n",
    "n = config.data.training.n_monte_carlo"
   ]
  },
  {
   "cell_type": "code",
   "execution_count": 6,
   "id": "94aee5f1-e786-4748-aa81-150e9ee25c65",
   "metadata": {
    "tags": []
   },
   "outputs": [
    {
     "name": "stderr",
     "output_type": "stream",
     "text": [
      "  0%|                                                                                                                               | 0/150 [00:00<?, ?it/s]"
     ]
    },
    {
     "name": "stdout",
     "output_type": "stream",
     "text": [
      "torch.Size([128, 2048])\n",
      "torch.Size([128, 2048])\n",
      "torch.Size([128, 2048])\n",
      "torch.Size([128, 2048])\n",
      "torch.Size([128, 2048])\n",
      "torch.Size([128, 2048])\n",
      "torch.Size([128, 2048])\n",
      "torch.Size([128, 2048])\n",
      "torch.Size([128, 2048])\n",
      "torch.Size([128, 2048])\n",
      "torch.Size([128, 2048])\n",
      "torch.Size([128, 2048])\n",
      "torch.Size([128, 2048])\n",
      "torch.Size([128, 2048])\n",
      "torch.Size([128, 2048])\n",
      "torch.Size([128, 2048])\n",
      "torch.Size([128, 2048])\n",
      "torch.Size([128, 2048])\n",
      "torch.Size([128, 2048])\n",
      "torch.Size([128, 2048])\n",
      "torch.Size([128, 2048])\n",
      "torch.Size([128, 2048])\n",
      "torch.Size([128, 2048])\n",
      "torch.Size([128, 2048])\n",
      "torch.Size([128, 2048])\n",
      "torch.Size([44, 2048])\n",
      "torch.Size([128, 2048])\n",
      "torch.Size([128, 2048])\n",
      "torch.Size([128, 2048])\n",
      "torch.Size([128, 2048])\n",
      "torch.Size([128, 2048])\n",
      "torch.Size([128, 2048])\n"
     ]
    },
    {
     "name": "stderr",
     "output_type": "stream",
     "text": [
      "  0%|                                                                                                                               | 0/150 [00:02<?, ?it/s]\n"
     ]
    }
   ],
   "source": [
    "from src.models.certainty_pooling import certainty_pooling\n",
    "\n",
    "for epoch in tqdm(range(epochs)):\n",
    "    #running_loss = train_loop(train_pooling_loader, model, criterion, optimizer, epoch, device, n=n)\n",
    "    \n",
    "    running_loss = 0.0\n",
    "    for i, sample in enumerate(train_pooling_loader, 0):\n",
    "        inputs, targets = sample\n",
    "\n",
    "        with torch.no_grad():\n",
    "            inputs_pooling = np.asarray(\n",
    "                [certainty_pooling(model, input, n, device, epsilon=1.0e-3) for input in inputs]\n",
    "            )\n",
    "        break\n",
    "    break"
   ]
  },
  {
   "cell_type": "code",
   "execution_count": 15,
   "id": "1261bf44-f89e-41fe-9fdc-a89e00af411d",
   "metadata": {
    "tags": []
   },
   "outputs": [
    {
     "data": {
      "text/plain": [
       "(32, 2048)"
      ]
     },
     "execution_count": 15,
     "metadata": {},
     "output_type": "execute_result"
    }
   ],
   "source": [
    "inputs_pooling.shape"
   ]
  },
  {
   "cell_type": "code",
   "execution_count": 23,
   "id": "386b4408-8f95-4ad0-bbfe-50fea9ef00d6",
   "metadata": {
    "tags": []
   },
   "outputs": [
    {
     "ename": "TypeError",
     "evalue": "expected Tensor as element 0 in argument 0, but got int",
     "output_type": "error",
     "traceback": [
      "\u001b[0;31m---------------------------------------------------------------------------\u001b[0m",
      "\u001b[0;31mTypeError\u001b[0m                                 Traceback (most recent call last)",
      "Cell \u001b[0;32mIn[23], line 23\u001b[0m\n\u001b[1;32m     20\u001b[0m k_star \u001b[38;5;241m=\u001b[39m torch\u001b[38;5;241m.\u001b[39mtensor([z_\u001b[38;5;241m.\u001b[39margmax() \u001b[38;5;28;01mfor\u001b[39;00m z_ \u001b[38;5;129;01min\u001b[39;00m z_m])\n\u001b[1;32m     22\u001b[0m pooling_input \u001b[38;5;241m=\u001b[39m torch\u001b[38;5;241m.\u001b[39mcat([torch\u001b[38;5;241m.\u001b[39mtensor(bag[k_star[idx]])\u001b[38;5;241m.\u001b[39munsqueeze(\u001b[38;5;241m0\u001b[39m) \u001b[38;5;28;01mfor\u001b[39;00m idx, bag \u001b[38;5;129;01min\u001b[39;00m \u001b[38;5;28menumerate\u001b[39m(batch_features)], dim\u001b[38;5;241m=\u001b[39m\u001b[38;5;241m0\u001b[39m)\n\u001b[0;32m---> 23\u001b[0m pooling_target \u001b[38;5;241m=\u001b[39m \u001b[43mtorch\u001b[49m\u001b[38;5;241;43m.\u001b[39;49m\u001b[43mcat\u001b[49m\u001b[43m(\u001b[49m\u001b[43m[\u001b[49m\u001b[43m \u001b[49m\u001b[43mi\u001b[49m\u001b[43m \u001b[49m\u001b[38;5;28;43;01mfor\u001b[39;49;00m\u001b[43m \u001b[49m\u001b[43mi\u001b[49m\u001b[43m \u001b[49m\u001b[38;5;129;43;01min\u001b[39;49;00m\u001b[43m \u001b[49m\u001b[43mbatch_targets\u001b[49m\u001b[43m]\u001b[49m\u001b[43m)\u001b[49m\n",
      "\u001b[0;31mTypeError\u001b[0m: expected Tensor as element 0 in argument 0, but got int"
     ]
    }
   ],
   "source": [
    "for batch_features, batch_targets in train_pooling_loader: \n",
    "    break\n",
    "\n",
    "T = 10\n",
    "\n",
    "input_ = torch.cat([torch.tensor(i) for i in batch_features])\n",
    "h = model(input_.to(device).float())\n",
    "\n",
    "model.train()\n",
    "cat = torch.cat([torch.tensor(i) for i in batch_features])\n",
    "\n",
    "mc_output = torch.cat([model(cat.to(device).float()) for _ in range(T)], dim=0)\n",
    "mc_output = mc_output.reshape(T,cat.shape[0],1).squeeze(-1)\n",
    "\n",
    "output_split = torch.split(mc_output, split_size_or_sections=[i.shape[0] for i in batch_features], dim=1)\n",
    "std_output = torch.cat([1 / i.std(0) for i in output_split])\n",
    "\n",
    "z_m_global = (std_output * h.squeeze(-1))\n",
    "z_m = torch.split(z_m_global, split_size_or_sections=[i.shape[0] for i in batch_features], dim=0)\n",
    "k_star = torch.tensor([z_.argmax() for z_ in z_m])\n",
    "\n",
    "pooling_input = torch.cat([torch.tensor(bag[k_star[idx]]).unsqueeze(0) for idx, bag in enumerate(batch_features)], dim=0)\n",
    "pooling_target = torch.tensor(batch_targets)"
   ]
  },
  {
   "cell_type": "code",
   "execution_count": 17,
   "id": "fe7f8dbc-c2a8-43e5-b856-cec900732ef3",
   "metadata": {
    "tags": []
   },
   "outputs": [
    {
     "data": {
      "text/plain": [
       "torch.Size([32, 2048])"
      ]
     },
     "execution_count": 17,
     "metadata": {},
     "output_type": "execute_result"
    }
   ],
   "source": [
    "pooling_input.shape"
   ]
  },
  {
   "cell_type": "code",
   "execution_count": 97,
   "id": "41e73957-a796-48ca-bafc-4e792e3d359d",
   "metadata": {
    "tags": []
   },
   "outputs": [
    {
     "data": {
      "text/plain": [
       "(torch.Size([4094]), torch.Size([10, 4094]))"
      ]
     },
     "execution_count": 97,
     "metadata": {},
     "output_type": "execute_result"
    }
   ],
   "source": [
    "z_m_global.shape , mc_output.shape"
   ]
  },
  {
   "cell_type": "code",
   "execution_count": 68,
   "id": "71f31619-ff75-47e0-b9cd-e92235bbcd7f",
   "metadata": {
    "tags": []
   },
   "outputs": [
    {
     "data": {
      "text/plain": [
       "(torch.Size([10, 128]), tuple, torch.Size([3995, 1]))"
      ]
     },
     "execution_count": 68,
     "metadata": {},
     "output_type": "execute_result"
    }
   ],
   "source": [
    "output_split[0].shape , type(output_split) , h.shape"
   ]
  },
  {
   "cell_type": "code",
   "execution_count": 80,
   "id": "fae3de3b-42ce-484e-9645-d322c40e5e72",
   "metadata": {
    "tags": []
   },
   "outputs": [
    {
     "data": {
      "text/plain": [
       "(tensor(180.6760, device='cuda:0', grad_fn=<MaxBackward1>),\n",
       " tensor(1539, device='cuda:0'))"
      ]
     },
     "execution_count": 80,
     "metadata": {},
     "output_type": "execute_result"
    }
   ],
   "source": [
    "z_m.max() , z_m.argmax()"
   ]
  },
  {
   "cell_type": "code",
   "execution_count": 84,
   "id": "e75643f3-924d-40c1-8665-3f384679a68e",
   "metadata": {
    "tags": []
   },
   "outputs": [
    {
     "data": {
      "text/plain": [
       "tensor([  38,  947,  835,  771,  914,  737, 1255,  800, 1119,  484,  378,  942,\n",
       "         625,  913,  583,  241,  119,  918,   60,  538,  529,  571, 1227,  143,\n",
       "          25,  373,  886,  854,  345, 1201,  561,  890])"
      ]
     },
     "execution_count": 84,
     "metadata": {},
     "output_type": "execute_result"
    }
   ],
   "source": []
  },
  {
   "cell_type": "code",
   "execution_count": 65,
   "id": "f788a9d0-cff1-4c90-8785-8e54d4c3f7a9",
   "metadata": {
    "tags": []
   },
   "outputs": [
    {
     "data": {
      "text/plain": [
       "(tensor([[50.8923, 49.1789, 48.9541,  ..., 52.1460, 56.1518, 44.6217],\n",
       "         [50.5437, 48.8420, 48.6187,  ..., 51.7888, 55.7671, 44.3160],\n",
       "         [46.9885, 45.4065, 45.1989,  ..., 48.1460, 51.8445, 41.1989],\n",
       "         ...,\n",
       "         [51.3366, 49.6082, 49.3815,  ..., 52.6013, 56.6420, 45.0113],\n",
       "         [50.4756, 48.7762, 48.5533,  ..., 51.7191, 55.6921, 44.2564],\n",
       "         [49.2888, 47.6294, 47.4117,  ..., 50.5030, 54.3826, 43.2158]],\n",
       "        device='cuda:0', grad_fn=<MulBackward0>),\n",
       " tensor([217832.3125], device='cuda:0', grad_fn=<SqueezeBackward3>))"
      ]
     },
     "execution_count": 65,
     "metadata": {},
     "output_type": "execute_result"
    }
   ],
   "source": [
    "std_output * h , std_output @ h"
   ]
  },
  {
   "cell_type": "code",
   "execution_count": 75,
   "id": "f374852c-fed2-491c-98ed-6f30dc511ae1",
   "metadata": {
    "tags": []
   },
   "outputs": [
    {
     "data": {
      "text/plain": [
       "(torch.Size([3995]), torch.Size([3995]), torch.Size([3995, 1]))"
      ]
     },
     "execution_count": 75,
     "metadata": {},
     "output_type": "execute_result"
    }
   ],
   "source": [
    "(std_output * h.squeeze(-1)).shape , std_output.shape , h.shape"
   ]
  },
  {
   "cell_type": "code",
   "execution_count": 76,
   "id": "f29f93a0-f84b-4fbf-8a40-3dfaf6ca9ca5",
   "metadata": {
    "tags": []
   },
   "outputs": [
    {
     "data": {
      "text/plain": [
       "tensor([50.8923, 48.8420, 45.1989,  ..., 52.6013, 55.6921, 43.2158],\n",
       "       device='cuda:0', grad_fn=<MulBackward0>)"
      ]
     },
     "execution_count": 76,
     "metadata": {},
     "output_type": "execute_result"
    }
   ],
   "source": []
  },
  {
   "cell_type": "code",
   "execution_count": null,
   "id": "1e2d37c0-18ec-46fe-9898-ee8d9d6ff871",
   "metadata": {},
   "outputs": [],
   "source": []
  }
 ],
 "metadata": {
  "kernelspec": {
   "display_name": "Python 3 (ipykernel)",
   "language": "python",
   "name": "python3"
  },
  "language_info": {
   "codemirror_mode": {
    "name": "ipython",
    "version": 3
   },
   "file_extension": ".py",
   "mimetype": "text/x-python",
   "name": "python",
   "nbconvert_exporter": "python",
   "pygments_lexer": "ipython3",
   "version": "3.10.5"
  }
 },
 "nbformat": 4,
 "nbformat_minor": 5
}
